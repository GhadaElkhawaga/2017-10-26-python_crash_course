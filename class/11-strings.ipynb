{
 "cells": [
  {
   "cell_type": "markdown",
   "metadata": {
    "toc": "true"
   },
   "source": [
    "# Table of Contents\n",
    " <p><div class=\"lev1 toc-item\"><a href=\"#String-Basics\" data-toc-modified-id=\"String-Basics-1\"><span class=\"toc-item-num\">1&nbsp;&nbsp;</span>String Basics</a></div><div class=\"lev1 toc-item\"><a href=\"#String-Formatting\" data-toc-modified-id=\"String-Formatting-2\"><span class=\"toc-item-num\">2&nbsp;&nbsp;</span>String Formatting</a></div><div class=\"lev2 toc-item\"><a href=\"#F-strings\" data-toc-modified-id=\"F-strings-21\"><span class=\"toc-item-num\">2.1&nbsp;&nbsp;</span>F-strings</a></div><div class=\"lev2 toc-item\"><a href=\"#String-formatting\" data-toc-modified-id=\"String-formatting-22\"><span class=\"toc-item-num\">2.2&nbsp;&nbsp;</span>String formatting</a></div><div class=\"lev2 toc-item\"><a href=\"#C-style-(older)-formatting\" data-toc-modified-id=\"C-style-(older)-formatting-23\"><span class=\"toc-item-num\">2.3&nbsp;&nbsp;</span>C-style (older) formatting</a></div><div class=\"lev1 toc-item\"><a href=\"#Regular-Expressions\" data-toc-modified-id=\"Regular-Expressions-3\"><span class=\"toc-item-num\">3&nbsp;&nbsp;</span>Regular Expressions</a></div>"
   ]
  },
  {
   "cell_type": "markdown",
   "metadata": {},
   "source": [
    "Most of your data cleaning steps will involve working with strings since many datasets\n",
    "will contain unstructured text.\n",
    "Other times, when multiple variables are stored in a single column, you will need to\n",
    "parse the variable into separate columns using string manipulation"
   ]
  },
  {
   "cell_type": "markdown",
   "metadata": {},
   "source": [
    "# String Basics"
   ]
  },
  {
   "cell_type": "code",
   "execution_count": 1,
   "metadata": {
    "ExecuteTime": {
     "end_time": "2017-12-04T16:35:40.724279Z",
     "start_time": "2017-12-04T16:35:40.719087Z"
    }
   },
   "outputs": [],
   "source": [
    "# create a string\n",
    "word = 'grail'"
   ]
  },
  {
   "cell_type": "code",
   "execution_count": 2,
   "metadata": {
    "ExecuteTime": {
     "end_time": "2017-12-04T16:35:40.752718Z",
     "start_time": "2017-12-04T16:35:40.728995Z"
    }
   },
   "outputs": [
    {
     "data": {
      "text/plain": [
       "'g'"
      ]
     },
     "execution_count": 2,
     "metadata": {},
     "output_type": "execute_result"
    }
   ],
   "source": [
    "# get the first letter of the string\n",
    "# this is similar to how we get items out of a list\n",
    "word[0]"
   ]
  },
  {
   "cell_type": "code",
   "execution_count": 3,
   "metadata": {
    "ExecuteTime": {
     "end_time": "2017-12-04T16:35:40.767691Z",
     "start_time": "2017-12-04T16:35:40.755709Z"
    }
   },
   "outputs": [
    {
     "data": {
      "text/plain": [
       "'l'"
      ]
     },
     "execution_count": 3,
     "metadata": {},
     "output_type": "execute_result"
    }
   ],
   "source": [
    "# negative numbers count from the back\n",
    "word[-1]"
   ]
  },
  {
   "cell_type": "code",
   "execution_count": 4,
   "metadata": {
    "ExecuteTime": {
     "end_time": "2017-12-04T16:35:40.779587Z",
     "start_time": "2017-12-04T16:35:40.770813Z"
    }
   },
   "outputs": [
    {
     "data": {
      "text/plain": [
       "'GRAIL'"
      ]
     },
     "execution_count": 4,
     "metadata": {},
     "output_type": "execute_result"
    }
   ],
   "source": [
    "# strings have methods that perform certain tasks\n",
    "# for example we can upper-case all the characters\n",
    "word.upper()"
   ]
  },
  {
   "cell_type": "code",
   "execution_count": 5,
   "metadata": {
    "ExecuteTime": {
     "end_time": "2017-12-04T16:35:40.791072Z",
     "start_time": "2017-12-04T16:35:40.784804Z"
    }
   },
   "outputs": [
    {
     "data": {
      "text/plain": [
       "'grail'"
      ]
     },
     "execution_count": 5,
     "metadata": {},
     "output_type": "execute_result"
    }
   ],
   "source": [
    "# notice the original string does not change\n",
    "# we would have to reassign a new variable when performing the upper method\n",
    "word"
   ]
  },
  {
   "cell_type": "code",
   "execution_count": 6,
   "metadata": {
    "ExecuteTime": {
     "end_time": "2017-12-04T16:35:40.803286Z",
     "start_time": "2017-12-04T16:35:40.795647Z"
    }
   },
   "outputs": [
    {
     "data": {
      "text/plain": [
       "1"
      ]
     },
     "execution_count": 6,
     "metadata": {},
     "output_type": "execute_result"
    }
   ],
   "source": [
    "# count number of times another string appears\n",
    "word.count('i')"
   ]
  },
  {
   "cell_type": "code",
   "execution_count": 7,
   "metadata": {
    "ExecuteTime": {
     "end_time": "2017-12-04T16:35:40.814032Z",
     "start_time": "2017-12-04T16:35:40.806429Z"
    }
   },
   "outputs": [],
   "source": [
    "# create a zipcode without leading zeros\n",
    "zipcode = '1234'"
   ]
  },
  {
   "cell_type": "code",
   "execution_count": 8,
   "metadata": {
    "ExecuteTime": {
     "end_time": "2017-12-04T16:35:40.822785Z",
     "start_time": "2017-12-04T16:35:40.818381Z"
    }
   },
   "outputs": [
    {
     "data": {
      "text/plain": [
       "'01234'"
      ]
     },
     "execution_count": 8,
     "metadata": {},
     "output_type": "execute_result"
    }
   ],
   "source": [
    "# zfill will fill leading zeros\n",
    "zipcode.zfill(5)"
   ]
  },
  {
   "cell_type": "markdown",
   "metadata": {},
   "source": [
    "# String Formatting"
   ]
  },
  {
   "cell_type": "markdown",
   "metadata": {},
   "source": [
    "## F-strings"
   ]
  },
  {
   "cell_type": "code",
   "execution_count": 9,
   "metadata": {
    "ExecuteTime": {
     "end_time": "2017-12-04T16:35:40.830657Z",
     "start_time": "2017-12-04T16:35:40.824704Z"
    }
   },
   "outputs": [],
   "source": [
    "var = 'flesh wound'"
   ]
  },
  {
   "cell_type": "code",
   "execution_count": 10,
   "metadata": {
    "ExecuteTime": {
     "end_time": "2017-12-04T16:35:40.836263Z",
     "start_time": "2017-12-04T16:35:40.833191Z"
    }
   },
   "outputs": [],
   "source": [
    "# new to Python 3.6, f-strings!\n",
    "# notice the f before the quotation\n",
    "s = f\"It's just a {var}\""
   ]
  },
  {
   "cell_type": "code",
   "execution_count": 11,
   "metadata": {
    "ExecuteTime": {
     "end_time": "2017-12-04T16:35:40.845755Z",
     "start_time": "2017-12-04T16:35:40.838056Z"
    }
   },
   "outputs": [
    {
     "data": {
      "text/plain": [
       "\"It's just a flesh wound\""
      ]
     },
     "execution_count": 11,
     "metadata": {},
     "output_type": "execute_result"
    }
   ],
   "source": [
    "s"
   ]
  },
  {
   "cell_type": "code",
   "execution_count": 12,
   "metadata": {
    "ExecuteTime": {
     "end_time": "2017-12-04T16:35:40.988074Z",
     "start_time": "2017-12-04T16:35:40.848773Z"
    }
   },
   "outputs": [
    {
     "ename": "NameError",
     "evalue": "name 'foo' is not defined",
     "output_type": "error",
     "traceback": [
      "\u001b[0;31m---------------------------------------------------------------------------\u001b[0m",
      "\u001b[0;31mNameError\u001b[0m                                 Traceback (most recent call last)",
      "\u001b[0;32m<ipython-input-12-d3b30ca6d057>\u001b[0m in \u001b[0;36m<module>\u001b[0;34m()\u001b[0m\n\u001b[1;32m      1\u001b[0m \u001b[0;31m# if no variable is in the scope, it will error\u001b[0m\u001b[0;34m\u001b[0m\u001b[0;34m\u001b[0m\u001b[0m\n\u001b[0;32m----> 2\u001b[0;31m \u001b[0;34mf\"It's just a {foo}\"\u001b[0m\u001b[0;34m\u001b[0m\u001b[0m\n\u001b[0m",
      "\u001b[0;31mNameError\u001b[0m: name 'foo' is not defined"
     ]
    }
   ],
   "source": [
    "# if no variable is in the scope, it will error\n",
    "f\"It's just a {foo}\""
   ]
  },
  {
   "cell_type": "markdown",
   "metadata": {},
   "source": [
    "## String formatting"
   ]
  },
  {
   "cell_type": "code",
   "execution_count": 13,
   "metadata": {
    "ExecuteTime": {
     "end_time": "2017-12-04T16:35:48.867614Z",
     "start_time": "2017-12-04T16:35:48.859849Z"
    }
   },
   "outputs": [],
   "source": [
    "# formatted strings without the f-string notation\n",
    "var = 'flesh wound'\n",
    "s = \"It's just a {}\""
   ]
  },
  {
   "cell_type": "code",
   "execution_count": 14,
   "metadata": {
    "ExecuteTime": {
     "end_time": "2017-12-04T16:35:48.889090Z",
     "start_time": "2017-12-04T16:35:48.881658Z"
    }
   },
   "outputs": [
    {
     "data": {
      "text/plain": [
       "\"It's just a flesh wound\""
      ]
     },
     "execution_count": 14,
     "metadata": {},
     "output_type": "execute_result"
    }
   ],
   "source": [
    "s.format(var)"
   ]
  },
  {
   "cell_type": "code",
   "execution_count": 15,
   "metadata": {
    "ExecuteTime": {
     "end_time": "2017-12-04T16:35:48.909144Z",
     "start_time": "2017-12-04T16:35:48.899699Z"
    }
   },
   "outputs": [
    {
     "data": {
      "text/plain": [
       "'my ID is: 0000123456'"
      ]
     },
     "execution_count": 15,
     "metadata": {},
     "output_type": "execute_result"
    }
   ],
   "source": [
    "\"my ID is: {0:010d}\".format(123456)"
   ]
  },
  {
   "cell_type": "markdown",
   "metadata": {},
   "source": [
    "## C-style (older) formatting"
   ]
  },
  {
   "cell_type": "code",
   "execution_count": 16,
   "metadata": {
    "ExecuteTime": {
     "end_time": "2017-12-04T16:35:48.918929Z",
     "start_time": "2017-12-04T16:35:48.913138Z"
    }
   },
   "outputs": [],
   "source": [
    "s = 'I only know %d of pi' % 7"
   ]
  },
  {
   "cell_type": "code",
   "execution_count": 17,
   "metadata": {
    "ExecuteTime": {
     "end_time": "2017-12-04T16:35:48.934086Z",
     "start_time": "2017-12-04T16:35:48.922378Z"
    }
   },
   "outputs": [
    {
     "data": {
      "text/plain": [
       "'I only know 7 of pi'"
      ]
     },
     "execution_count": 17,
     "metadata": {},
     "output_type": "execute_result"
    }
   ],
   "source": [
    "s"
   ]
  },
  {
   "cell_type": "markdown",
   "metadata": {},
   "source": [
    "# Regular Expressions"
   ]
  },
  {
   "cell_type": "code",
   "execution_count": 18,
   "metadata": {
    "ExecuteTime": {
     "end_time": "2017-12-04T16:35:48.947513Z",
     "start_time": "2017-12-04T16:35:48.940833Z"
    }
   },
   "outputs": [],
   "source": [
    "import re"
   ]
  },
  {
   "cell_type": "code",
   "execution_count": 19,
   "metadata": {
    "ExecuteTime": {
     "end_time": "2017-12-04T16:35:48.979716Z",
     "start_time": "2017-12-04T16:35:48.973486Z"
    }
   },
   "outputs": [],
   "source": [
    "tele_num = '1234'"
   ]
  },
  {
   "cell_type": "code",
   "execution_count": 20,
   "metadata": {
    "ExecuteTime": {
     "end_time": "2017-12-04T16:35:48.998242Z",
     "start_time": "2017-12-04T16:35:48.990098Z"
    }
   },
   "outputs": [],
   "source": [
    "# find the pattern of 5 digits in the string\n",
    "m = re.match('\\d\\d\\d\\d\\d', tele_num)"
   ]
  },
  {
   "cell_type": "code",
   "execution_count": 21,
   "metadata": {
    "ExecuteTime": {
     "end_time": "2017-12-04T16:35:49.005233Z",
     "start_time": "2017-12-04T16:35:49.000435Z"
    }
   },
   "outputs": [],
   "source": [
    "m"
   ]
  },
  {
   "cell_type": "code",
   "execution_count": 22,
   "metadata": {
    "ExecuteTime": {
     "end_time": "2017-12-04T16:35:49.014531Z",
     "start_time": "2017-12-04T16:35:49.007633Z"
    }
   },
   "outputs": [
    {
     "data": {
      "text/plain": [
       "False"
      ]
     },
     "execution_count": 22,
     "metadata": {},
     "output_type": "execute_result"
    }
   ],
   "source": [
    "# the match object will return True/False if you take the bool\n",
    "bool(m)"
   ]
  },
  {
   "cell_type": "code",
   "execution_count": 23,
   "metadata": {
    "ExecuteTime": {
     "end_time": "2017-12-04T16:35:49.022879Z",
     "start_time": "2017-12-04T16:35:49.016712Z"
    }
   },
   "outputs": [
    {
     "data": {
      "text/plain": [
       "'123-456-7890'"
      ]
     },
     "execution_count": 23,
     "metadata": {},
     "output_type": "execute_result"
    }
   ],
   "source": [
    "'123-456-7890'"
   ]
  },
  {
   "cell_type": "code",
   "execution_count": 24,
   "metadata": {
    "ExecuteTime": {
     "end_time": "2017-12-04T16:35:49.033103Z",
     "start_time": "2017-12-04T16:35:49.028987Z"
    }
   },
   "outputs": [
    {
     "data": {
      "text/plain": [
       "'(123) 456-7890'"
      ]
     },
     "execution_count": 24,
     "metadata": {},
     "output_type": "execute_result"
    }
   ],
   "source": [
    "'(123) 456-7890'"
   ]
  },
  {
   "cell_type": "code",
   "execution_count": 25,
   "metadata": {
    "ExecuteTime": {
     "end_time": "2017-12-04T16:35:49.049667Z",
     "start_time": "2017-12-04T16:35:49.044287Z"
    }
   },
   "outputs": [
    {
     "data": {
      "text/plain": [
       "'+1 (123) 456-7890'"
      ]
     },
     "execution_count": 25,
     "metadata": {},
     "output_type": "execute_result"
    }
   ],
   "source": [
    "'+1 (123) 456-7890'"
   ]
  },
  {
   "cell_type": "code",
   "execution_count": 26,
   "metadata": {
    "ExecuteTime": {
     "end_time": "2017-12-04T16:35:49.062638Z",
     "start_time": "2017-12-04T16:35:49.057059Z"
    }
   },
   "outputs": [],
   "source": [
    "# is there a sequence of 3 digits in the string?\n",
    "# yes\n",
    "p = re.compile('\\d\\d\\d')"
   ]
  },
  {
   "cell_type": "code",
   "execution_count": 27,
   "metadata": {
    "ExecuteTime": {
     "end_time": "2017-12-04T16:35:49.074746Z",
     "start_time": "2017-12-04T16:35:49.070082Z"
    }
   },
   "outputs": [
    {
     "data": {
      "text/plain": [
       "True"
      ]
     },
     "execution_count": 27,
     "metadata": {},
     "output_type": "execute_result"
    }
   ],
   "source": [
    "bool(p.match('124'))"
   ]
  },
  {
   "cell_type": "code",
   "execution_count": null,
   "metadata": {},
   "outputs": [],
   "source": []
  }
 ],
 "metadata": {
  "kernelspec": {
   "display_name": "Python 3",
   "language": "python",
   "name": "python3"
  },
  "language_info": {
   "codemirror_mode": {
    "name": "ipython",
    "version": 3
   },
   "file_extension": ".py",
   "mimetype": "text/x-python",
   "name": "python",
   "nbconvert_exporter": "python",
   "pygments_lexer": "ipython3",
   "version": "3.6.3"
  },
  "toc": {
   "colors": {
    "hover_highlight": "#DAA520",
    "navigate_num": "#000000",
    "navigate_text": "#333333",
    "running_highlight": "#FF0000",
    "selected_highlight": "#FFD700",
    "sidebar_border": "#EEEEEE",
    "wrapper_background": "#FFFFFF"
   },
   "moveMenuLeft": true,
   "nav_menu": {
    "height": "12px",
    "width": "252px"
   },
   "navigate_menu": true,
   "number_sections": true,
   "sideBar": true,
   "threshold": 4,
   "toc_cell": true,
   "toc_position": {
    "height": "441px",
    "left": "0px",
    "right": "1073.71px",
    "top": "107px",
    "width": "23px"
   },
   "toc_section_display": "block",
   "toc_window_display": true,
   "widenNotebook": false
  }
 },
 "nbformat": 4,
 "nbformat_minor": 2
}
