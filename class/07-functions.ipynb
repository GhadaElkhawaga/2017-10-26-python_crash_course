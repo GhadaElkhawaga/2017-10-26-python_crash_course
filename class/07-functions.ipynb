{
 "cells": [
  {
   "cell_type": "markdown",
   "metadata": {
    "toc": "true"
   },
   "source": [
    "# Table of Contents\n",
    " <p>"
   ]
  },
  {
   "cell_type": "markdown",
   "metadata": {},
   "source": [
    "When we start processing our data, we can create functions that perform common data related tasks.\n",
    "This will minimize the amount of copy/pasting of code, which will reduce errors,\n",
    "and can make your code reuseable for other people and make your code more readable."
   ]
  },
  {
   "cell_type": "code",
   "execution_count": 1,
   "metadata": {
    "ExecuteTime": {
     "end_time": "2017-12-03T20:57:41.946528Z",
     "start_time": "2017-12-03T20:57:41.935011Z"
    }
   },
   "outputs": [
    {
     "name": "stdout",
     "output_type": "stream",
     "text": [
      "not in function\n"
     ]
    }
   ],
   "source": [
    "# create a function that just prints something\n",
    "def my_function():\n",
    "    print('in function')\n",
    "print('not in function')"
   ]
  },
  {
   "cell_type": "code",
   "execution_count": 5,
   "metadata": {
    "ExecuteTime": {
     "end_time": "2017-10-26T19:56:16.107096Z",
     "start_time": "2017-10-26T19:56:16.102776Z"
    }
   },
   "outputs": [
    {
     "name": "stdout",
     "output_type": "stream",
     "text": [
      "in function\n"
     ]
    }
   ],
   "source": [
    "# call the function we created\n",
    "my_function()"
   ]
  },
  {
   "cell_type": "code",
   "execution_count": 2,
   "metadata": {
    "ExecuteTime": {
     "end_time": "2017-12-03T20:58:03.946566Z",
     "start_time": "2017-12-03T20:58:03.942406Z"
    }
   },
   "outputs": [],
   "source": [
    "# function that converts temperature (F to K)\n",
    "def f2k(temp):\n",
    "    convert = ((temp - 32) * (5 / 9)) + 273.15\n",
    "    return convert"
   ]
  },
  {
   "cell_type": "code",
   "execution_count": 3,
   "metadata": {
    "ExecuteTime": {
     "end_time": "2017-12-03T20:58:24.974640Z",
     "start_time": "2017-12-03T20:58:24.959935Z"
    }
   },
   "outputs": [
    {
     "data": {
      "text/plain": [
       "1"
      ]
     },
     "execution_count": 3,
     "metadata": {},
     "output_type": "execute_result"
    }
   ],
   "source": [
    "9 // 5 ## this is integer division in python3, this was the default behaviour in python2"
   ]
  },
  {
   "cell_type": "code",
   "execution_count": 4,
   "metadata": {
    "ExecuteTime": {
     "end_time": "2017-12-03T20:58:25.443104Z",
     "start_time": "2017-12-03T20:58:25.431171Z"
    }
   },
   "outputs": [
    {
     "data": {
      "text/plain": [
       "273.15"
      ]
     },
     "execution_count": 4,
     "metadata": {},
     "output_type": "execute_result"
    }
   ],
   "source": [
    "f2k(32)"
   ]
  },
  {
   "cell_type": "code",
   "execution_count": 5,
   "metadata": {
    "ExecuteTime": {
     "end_time": "2017-12-03T20:58:34.914950Z",
     "start_time": "2017-12-03T20:58:34.909925Z"
    }
   },
   "outputs": [],
   "source": [
    "# function with a default parameter\n",
    "def f2k(temp=32):\n",
    "    convert = ((temp - 32) * (5/9)) + 273.15\n",
    "    return convert"
   ]
  },
  {
   "cell_type": "code",
   "execution_count": 6,
   "metadata": {
    "ExecuteTime": {
     "end_time": "2017-12-03T20:58:35.210818Z",
     "start_time": "2017-12-03T20:58:35.205382Z"
    }
   },
   "outputs": [
    {
     "data": {
      "text/plain": [
       "262.0388888888889"
      ]
     },
     "execution_count": 6,
     "metadata": {},
     "output_type": "execute_result"
    }
   ],
   "source": [
    "f2k(12)"
   ]
  },
  {
   "cell_type": "code",
   "execution_count": 7,
   "metadata": {
    "ExecuteTime": {
     "end_time": "2017-12-03T20:58:35.485830Z",
     "start_time": "2017-12-03T20:58:35.478400Z"
    }
   },
   "outputs": [
    {
     "data": {
      "text/plain": [
       "273.15"
      ]
     },
     "execution_count": 7,
     "metadata": {},
     "output_type": "execute_result"
    }
   ],
   "source": [
    "f2k(32)"
   ]
  },
  {
   "cell_type": "code",
   "execution_count": 8,
   "metadata": {
    "ExecuteTime": {
     "end_time": "2017-12-03T20:58:54.612285Z",
     "start_time": "2017-12-03T20:58:54.606368Z"
    }
   },
   "outputs": [
    {
     "data": {
      "text/plain": [
       "273.15"
      ]
     },
     "execution_count": 8,
     "metadata": {},
     "output_type": "execute_result"
    }
   ],
   "source": [
    "# we don't need to pass in anything to a default parameter\n",
    "f2k()"
   ]
  },
  {
   "cell_type": "code",
   "execution_count": 13,
   "metadata": {
    "ExecuteTime": {
     "end_time": "2017-12-03T20:59:08.743722Z",
     "start_time": "2017-12-03T20:59:08.739219Z"
    }
   },
   "outputs": [],
   "source": [
    "# write a test case for our function\n",
    "assert f2k(32) == 273.15"
   ]
  },
  {
   "cell_type": "code",
   "execution_count": 14,
   "metadata": {
    "ExecuteTime": {
     "end_time": "2017-12-03T20:59:08.909698Z",
     "start_time": "2017-12-03T20:59:08.904818Z"
    }
   },
   "outputs": [],
   "source": [
    "def k2c(temp):\n",
    "    return temp - 273.15"
   ]
  },
  {
   "cell_type": "code",
   "execution_count": 15,
   "metadata": {
    "ExecuteTime": {
     "end_time": "2017-12-03T20:59:09.070130Z",
     "start_time": "2017-12-03T20:59:09.064361Z"
    }
   },
   "outputs": [],
   "source": [
    "def f2c(temp):\n",
    "    tk = f2k(temp)\n",
    "    c = k2c(tk)\n",
    "    return(c)"
   ]
  },
  {
   "cell_type": "code",
   "execution_count": 16,
   "metadata": {
    "ExecuteTime": {
     "end_time": "2017-12-03T20:59:09.217964Z",
     "start_time": "2017-12-03T20:59:09.211511Z"
    }
   },
   "outputs": [],
   "source": [
    "def f2k(temp=32):\n",
    "    convert = ((temp - 32) * (5/9)) + 273.15\n",
    "    return convert"
   ]
  },
  {
   "cell_type": "code",
   "execution_count": null,
   "metadata": {},
   "outputs": [],
   "source": []
  }
 ],
 "metadata": {
  "kernelspec": {
   "display_name": "Python (root)",
   "language": "python",
   "name": "other-env"
  },
  "language_info": {
   "codemirror_mode": {
    "name": "ipython",
    "version": 3
   },
   "file_extension": ".py",
   "mimetype": "text/x-python",
   "name": "python",
   "nbconvert_exporter": "python",
   "pygments_lexer": "ipython3",
   "version": "3.6.3"
  },
  "toc": {
   "colors": {
    "hover_highlight": "#DAA520",
    "navigate_num": "#000000",
    "navigate_text": "#333333",
    "running_highlight": "#FF0000",
    "selected_highlight": "#FFD700",
    "sidebar_border": "#EEEEEE",
    "wrapper_background": "#FFFFFF"
   },
   "moveMenuLeft": true,
   "nav_menu": {
    "height": "12px",
    "width": "252px"
   },
   "navigate_menu": true,
   "number_sections": true,
   "sideBar": false,
   "threshold": 4,
   "toc_cell": true,
   "toc_position": {
    "height": "392px",
    "left": "1441px",
    "right": "739.6px",
    "top": "137.994px",
    "width": "240px"
   },
   "toc_section_display": "block",
   "toc_window_display": true,
   "widenNotebook": false
  }
 },
 "nbformat": 4,
 "nbformat_minor": 2
}
