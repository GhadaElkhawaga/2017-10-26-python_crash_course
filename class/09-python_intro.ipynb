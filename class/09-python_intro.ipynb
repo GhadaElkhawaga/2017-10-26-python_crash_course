{
 "cells": [
  {
   "cell_type": "markdown",
   "metadata": {
    "toc": "true"
   },
   "source": [
    "# Table of Contents\n",
    " <p><div class=\"lev1 toc-item\"><a href=\"#basic-types\" data-toc-modified-id=\"basic-types-1\"><span class=\"toc-item-num\">1&nbsp;&nbsp;</span>basic types</a></div><div class=\"lev1 toc-item\"><a href=\"#String-operations\" data-toc-modified-id=\"String-operations-2\"><span class=\"toc-item-num\">2&nbsp;&nbsp;</span>String operations</a></div><div class=\"lev1 toc-item\"><a href=\"#Lists\" data-toc-modified-id=\"Lists-3\"><span class=\"toc-item-num\">3&nbsp;&nbsp;</span>Lists</a></div><div class=\"lev2 toc-item\"><a href=\"#Creating-lists\" data-toc-modified-id=\"Creating-lists-31\"><span class=\"toc-item-num\">3.1&nbsp;&nbsp;</span>Creating lists</a></div><div class=\"lev2 toc-item\"><a href=\"#Subset-list-elements\" data-toc-modified-id=\"Subset-list-elements-32\"><span class=\"toc-item-num\">3.2&nbsp;&nbsp;</span>Subset list elements</a></div><div class=\"lev2 toc-item\"><a href=\"#Reassign-list-elements\" data-toc-modified-id=\"Reassign-list-elements-33\"><span class=\"toc-item-num\">3.3&nbsp;&nbsp;</span>Reassign list elements</a></div><div class=\"lev2 toc-item\"><a href=\"#Append-to-list\" data-toc-modified-id=\"Append-to-list-34\"><span class=\"toc-item-num\">3.4&nbsp;&nbsp;</span>Append to list</a></div><div class=\"lev1 toc-item\"><a href=\"#Tuples\" data-toc-modified-id=\"Tuples-4\"><span class=\"toc-item-num\">4&nbsp;&nbsp;</span>Tuples</a></div><div class=\"lev1 toc-item\"><a href=\"#Dictionaries\" data-toc-modified-id=\"Dictionaries-5\"><span class=\"toc-item-num\">5&nbsp;&nbsp;</span>Dictionaries</a></div><div class=\"lev1 toc-item\"><a href=\"#Looping-through-containers\" data-toc-modified-id=\"Looping-through-containers-6\"><span class=\"toc-item-num\">6&nbsp;&nbsp;</span>Looping through containers</a></div><div class=\"lev1 toc-item\"><a href=\"#Passing-by-reference\" data-toc-modified-id=\"Passing-by-reference-7\"><span class=\"toc-item-num\">7&nbsp;&nbsp;</span>Passing by reference</a></div><div class=\"lev1 toc-item\"><a href=\"#Python-ranges\" data-toc-modified-id=\"Python-ranges-8\"><span class=\"toc-item-num\">8&nbsp;&nbsp;</span>Python ranges</a></div><div class=\"lev1 toc-item\"><a href=\"#Generators-and-cartesian-products\" data-toc-modified-id=\"Generators-and-cartesian-products-9\"><span class=\"toc-item-num\">9&nbsp;&nbsp;</span>Generators and cartesian products</a></div><div class=\"lev1 toc-item\"><a href=\"#Functions-and-arbitrary-number-of-inputs\" data-toc-modified-id=\"Functions-and-arbitrary-number-of-inputs-10\"><span class=\"toc-item-num\">10&nbsp;&nbsp;</span>Functions and arbitrary number of inputs</a></div><div class=\"lev1 toc-item\"><a href=\"#Classes-and-Objects\" data-toc-modified-id=\"Classes-and-Objects-11\"><span class=\"toc-item-num\">11&nbsp;&nbsp;</span>Classes and Objects</a></div><div class=\"lev1 toc-item\"><a href=\"#Class-inheritance\" data-toc-modified-id=\"Class-inheritance-12\"><span class=\"toc-item-num\">12&nbsp;&nbsp;</span>Class inheritance</a></div>"
   ]
  },
  {
   "cell_type": "markdown",
   "metadata": {},
   "source": [
    "Before continuting with pandas, let's look at Python as a programming language itself.\n",
    "Hopefully it'll give you insight into how and why things are the way they are"
   ]
  },
  {
   "cell_type": "markdown",
   "metadata": {},
   "source": [
    "# basic types"
   ]
  },
  {
   "cell_type": "code",
   "execution_count": 1,
   "metadata": {
    "ExecuteTime": {
     "end_time": "2017-10-27T13:14:53.741504Z",
     "start_time": "2017-10-27T13:14:53.715743Z"
    }
   },
   "outputs": [
    {
     "data": {
      "text/plain": [
       "3"
      ]
     },
     "execution_count": 1,
     "metadata": {},
     "output_type": "execute_result"
    }
   ],
   "source": [
    "3"
   ]
  },
  {
   "cell_type": "code",
   "execution_count": 2,
   "metadata": {
    "ExecuteTime": {
     "end_time": "2017-10-27T13:14:56.529693Z",
     "start_time": "2017-10-27T13:14:56.521600Z"
    }
   },
   "outputs": [
    {
     "data": {
      "text/plain": [
       "int"
      ]
     },
     "execution_count": 2,
     "metadata": {},
     "output_type": "execute_result"
    }
   ],
   "source": [
    "type(3)"
   ]
  },
  {
   "cell_type": "code",
   "execution_count": 4,
   "metadata": {
    "ExecuteTime": {
     "end_time": "2017-10-27T13:15:22.083406Z",
     "start_time": "2017-10-27T13:15:22.077637Z"
    }
   },
   "outputs": [
    {
     "data": {
      "text/plain": [
       "3"
      ]
     },
     "execution_count": 4,
     "metadata": {},
     "output_type": "execute_result"
    }
   ],
   "source": [
    "int(3.14)"
   ]
  },
  {
   "cell_type": "code",
   "execution_count": 5,
   "metadata": {
    "ExecuteTime": {
     "end_time": "2017-10-27T13:15:34.541416Z",
     "start_time": "2017-10-27T13:15:34.535952Z"
    }
   },
   "outputs": [
    {
     "data": {
      "text/plain": [
       "3.0"
      ]
     },
     "execution_count": 5,
     "metadata": {},
     "output_type": "execute_result"
    }
   ],
   "source": [
    "float(3)"
   ]
  },
  {
   "cell_type": "code",
   "execution_count": 6,
   "metadata": {
    "ExecuteTime": {
     "end_time": "2017-10-27T13:15:40.257419Z",
     "start_time": "2017-10-27T13:15:40.252313Z"
    }
   },
   "outputs": [
    {
     "data": {
      "text/plain": [
       "'strings'"
      ]
     },
     "execution_count": 6,
     "metadata": {},
     "output_type": "execute_result"
    }
   ],
   "source": [
    "'strings'"
   ]
  },
  {
   "cell_type": "code",
   "execution_count": 7,
   "metadata": {
    "ExecuteTime": {
     "end_time": "2017-10-27T13:15:45.811880Z",
     "start_time": "2017-10-27T13:15:45.804342Z"
    }
   },
   "outputs": [
    {
     "data": {
      "text/plain": [
       "True"
      ]
     },
     "execution_count": 7,
     "metadata": {},
     "output_type": "execute_result"
    }
   ],
   "source": [
    "True"
   ]
  },
  {
   "cell_type": "code",
   "execution_count": 8,
   "metadata": {
    "ExecuteTime": {
     "end_time": "2017-10-27T13:15:47.627602Z",
     "start_time": "2017-10-27T13:15:47.619923Z"
    }
   },
   "outputs": [
    {
     "data": {
      "text/plain": [
       "False"
      ]
     },
     "execution_count": 8,
     "metadata": {},
     "output_type": "execute_result"
    }
   ],
   "source": [
    "False"
   ]
  },
  {
   "cell_type": "code",
   "execution_count": 9,
   "metadata": {
    "ExecuteTime": {
     "end_time": "2017-10-27T13:16:33.788555Z",
     "start_time": "2017-10-27T13:16:33.783065Z"
    }
   },
   "outputs": [
    {
     "data": {
      "text/plain": [
       "'string'"
      ]
     },
     "execution_count": 9,
     "metadata": {},
     "output_type": "execute_result"
    }
   ],
   "source": [
    "\"string\""
   ]
  },
  {
   "cell_type": "markdown",
   "metadata": {},
   "source": [
    "# String operations"
   ]
  },
  {
   "cell_type": "code",
   "execution_count": 10,
   "metadata": {
    "ExecuteTime": {
     "end_time": "2017-10-27T13:16:36.431621Z",
     "start_time": "2017-10-27T13:16:36.418313Z"
    }
   },
   "outputs": [
    {
     "data": {
      "text/plain": [
       "'string'"
      ]
     },
     "execution_count": 10,
     "metadata": {},
     "output_type": "execute_result"
    }
   ],
   "source": [
    "'string'"
   ]
  },
  {
   "cell_type": "code",
   "execution_count": 11,
   "metadata": {
    "ExecuteTime": {
     "end_time": "2017-10-27T13:16:50.803814Z",
     "start_time": "2017-10-27T13:16:50.787956Z"
    }
   },
   "outputs": [
    {
     "data": {
      "text/plain": [
       "\"it's here\""
      ]
     },
     "execution_count": 11,
     "metadata": {},
     "output_type": "execute_result"
    }
   ],
   "source": [
    "\"it's here\""
   ]
  },
  {
   "cell_type": "code",
   "execution_count": 13,
   "metadata": {
    "ExecuteTime": {
     "end_time": "2017-10-27T13:18:18.296000Z",
     "start_time": "2017-10-27T13:18:18.289596Z"
    }
   },
   "outputs": [
    {
     "data": {
      "text/plain": [
       "'helloworld'"
      ]
     },
     "execution_count": 13,
     "metadata": {},
     "output_type": "execute_result"
    }
   ],
   "source": [
    "# adding strings will concatenate them\n",
    "\"hello\" + \"world\""
   ]
  },
  {
   "cell_type": "code",
   "execution_count": 14,
   "metadata": {
    "ExecuteTime": {
     "end_time": "2017-10-27T13:18:26.214171Z",
     "start_time": "2017-10-27T13:18:26.207935Z"
    }
   },
   "outputs": [
    {
     "data": {
      "text/plain": [
       "'helloworld'"
      ]
     },
     "execution_count": 14,
     "metadata": {},
     "output_type": "execute_result"
    }
   ],
   "source": [
    "# 2 strings next to eachother also concatenates\n",
    "\"hello\"\"world\""
   ]
  },
  {
   "cell_type": "markdown",
   "metadata": {},
   "source": [
    "# Lists"
   ]
  },
  {
   "cell_type": "markdown",
   "metadata": {},
   "source": [
    "## Creating lists"
   ]
  },
  {
   "cell_type": "code",
   "execution_count": 15,
   "metadata": {
    "ExecuteTime": {
     "end_time": "2017-10-27T13:20:00.039261Z",
     "start_time": "2017-10-27T13:20:00.034950Z"
    },
    "collapsed": true
   },
   "outputs": [],
   "source": [
    "# lists can store any arbitrary object\n",
    "my_list = ['a', 1, True, 3.14]"
   ]
  },
  {
   "cell_type": "code",
   "execution_count": 16,
   "metadata": {
    "ExecuteTime": {
     "end_time": "2017-10-27T13:20:02.126266Z",
     "start_time": "2017-10-27T13:20:02.110822Z"
    }
   },
   "outputs": [
    {
     "data": {
      "text/plain": [
       "['a', 1, True, 3.14]"
      ]
     },
     "execution_count": 16,
     "metadata": {},
     "output_type": "execute_result"
    }
   ],
   "source": [
    "my_list"
   ]
  },
  {
   "cell_type": "markdown",
   "metadata": {},
   "source": [
    "## Subset list elements"
   ]
  },
  {
   "cell_type": "code",
   "execution_count": 17,
   "metadata": {
    "ExecuteTime": {
     "end_time": "2017-10-27T13:21:12.471050Z",
     "start_time": "2017-10-27T13:21:12.465898Z"
    }
   },
   "outputs": [
    {
     "data": {
      "text/plain": [
       "'a'"
      ]
     },
     "execution_count": 17,
     "metadata": {},
     "output_type": "execute_result"
    }
   ],
   "source": [
    "my_list[0]"
   ]
  },
  {
   "cell_type": "code",
   "execution_count": 19,
   "metadata": {
    "ExecuteTime": {
     "end_time": "2017-10-27T13:21:50.274172Z",
     "start_time": "2017-10-27T13:21:50.265850Z"
    }
   },
   "outputs": [
    {
     "data": {
      "text/plain": [
       "['a', 1, True]"
      ]
     },
     "execution_count": 19,
     "metadata": {},
     "output_type": "execute_result"
    }
   ],
   "source": [
    "my_list[0:3]"
   ]
  },
  {
   "cell_type": "markdown",
   "metadata": {},
   "source": [
    "## Reassign list elements"
   ]
  },
  {
   "cell_type": "code",
   "execution_count": 21,
   "metadata": {
    "ExecuteTime": {
     "end_time": "2017-10-27T13:25:13.398260Z",
     "start_time": "2017-10-27T13:25:13.391830Z"
    }
   },
   "outputs": [],
   "source": [
    "my_list[0] = 'zzzz'"
   ]
  },
  {
   "cell_type": "code",
   "execution_count": 22,
   "metadata": {
    "ExecuteTime": {
     "end_time": "2017-10-27T13:25:15.793956Z",
     "start_time": "2017-10-27T13:25:15.781733Z"
    }
   },
   "outputs": [
    {
     "data": {
      "text/plain": [
       "['zzzz', 1, True, 3.14]"
      ]
     },
     "execution_count": 22,
     "metadata": {},
     "output_type": "execute_result"
    }
   ],
   "source": [
    "my_list"
   ]
  },
  {
   "cell_type": "markdown",
   "metadata": {},
   "source": [
    "## Append to list"
   ]
  },
  {
   "cell_type": "code",
   "execution_count": 23,
   "metadata": {
    "ExecuteTime": {
     "end_time": "2017-10-27T13:25:36.481963Z",
     "start_time": "2017-10-27T13:25:36.478769Z"
    },
    "collapsed": true
   },
   "outputs": [],
   "source": [
    "# append a string to the end\n",
    "my_list.append('new appended value')"
   ]
  },
  {
   "cell_type": "code",
   "execution_count": 24,
   "metadata": {
    "ExecuteTime": {
     "end_time": "2017-10-27T13:25:39.111238Z",
     "start_time": "2017-10-27T13:25:39.104691Z"
    }
   },
   "outputs": [
    {
     "data": {
      "text/plain": [
       "['zzzz', 1, True, 3.14, 'new appended value']"
      ]
     },
     "execution_count": 24,
     "metadata": {},
     "output_type": "execute_result"
    }
   ],
   "source": [
    "my_list"
   ]
  },
  {
   "cell_type": "code",
   "execution_count": 25,
   "metadata": {
    "ExecuteTime": {
     "end_time": "2017-10-27T13:25:55.918279Z",
     "start_time": "2017-10-27T13:25:55.912691Z"
    },
    "collapsed": true
   },
   "outputs": [],
   "source": [
    "# append a list to the end\n",
    "my_list.append(['a1', 'a2'])"
   ]
  },
  {
   "cell_type": "code",
   "execution_count": 26,
   "metadata": {
    "ExecuteTime": {
     "end_time": "2017-10-27T13:25:58.815440Z",
     "start_time": "2017-10-27T13:25:58.809912Z"
    }
   },
   "outputs": [
    {
     "data": {
      "text/plain": [
       "['zzzz', 1, True, 3.14, 'new appended value', ['a1', 'a2']]"
      ]
     },
     "execution_count": 26,
     "metadata": {},
     "output_type": "execute_result"
    }
   ],
   "source": [
    "my_list"
   ]
  },
  {
   "cell_type": "code",
   "execution_count": 29,
   "metadata": {
    "ExecuteTime": {
     "end_time": "2017-10-27T13:27:04.414455Z",
     "start_time": "2017-10-27T13:27:04.409292Z"
    }
   },
   "outputs": [
    {
     "data": {
      "text/plain": [
       "['a1', 'a2']"
      ]
     },
     "execution_count": 29,
     "metadata": {},
     "output_type": "execute_result"
    }
   ],
   "source": [
    "my_list[5]"
   ]
  },
  {
   "cell_type": "code",
   "execution_count": 30,
   "metadata": {
    "ExecuteTime": {
     "end_time": "2017-10-27T13:27:23.232649Z",
     "start_time": "2017-10-27T13:27:23.226015Z"
    }
   },
   "outputs": [
    {
     "data": {
      "text/plain": [
       "'a2'"
      ]
     },
     "execution_count": 30,
     "metadata": {},
     "output_type": "execute_result"
    }
   ],
   "source": [
    "my_list[5][1]"
   ]
  },
  {
   "cell_type": "code",
   "execution_count": 31,
   "metadata": {
    "ExecuteTime": {
     "end_time": "2017-10-27T13:29:50.784696Z",
     "start_time": "2017-10-27T13:29:50.777876Z"
    }
   },
   "outputs": [
    {
     "data": {
      "text/plain": [
       "['zzzz', 1, True, 3.14, 'new appended value', ['a1', 'a2']]"
      ]
     },
     "execution_count": 31,
     "metadata": {},
     "output_type": "execute_result"
    }
   ],
   "source": [
    "my_list"
   ]
  },
  {
   "cell_type": "code",
   "execution_count": 32,
   "metadata": {
    "ExecuteTime": {
     "end_time": "2017-10-27T13:29:53.654441Z",
     "start_time": "2017-10-27T13:29:53.647661Z"
    }
   },
   "outputs": [
    {
     "data": {
      "text/plain": [
       "['a1', 'a2']"
      ]
     },
     "execution_count": 32,
     "metadata": {},
     "output_type": "execute_result"
    }
   ],
   "source": [
    "# pop returns the last element and remove it from the list\n",
    "my_list.pop()"
   ]
  },
  {
   "cell_type": "code",
   "execution_count": 33,
   "metadata": {
    "ExecuteTime": {
     "end_time": "2017-10-27T13:29:59.407718Z",
     "start_time": "2017-10-27T13:29:59.398114Z"
    }
   },
   "outputs": [
    {
     "data": {
      "text/plain": [
       "['zzzz', 1, True, 3.14, 'new appended value']"
      ]
     },
     "execution_count": 33,
     "metadata": {},
     "output_type": "execute_result"
    }
   ],
   "source": [
    "my_list"
   ]
  },
  {
   "cell_type": "code",
   "execution_count": 34,
   "metadata": {
    "ExecuteTime": {
     "end_time": "2017-10-27T13:30:41.458810Z",
     "start_time": "2017-10-27T13:30:41.447444Z"
    },
    "collapsed": true
   },
   "outputs": [],
   "source": [
    "# insert into a specific index in a list\n",
    "my_list.insert(0, 'insert0')"
   ]
  },
  {
   "cell_type": "code",
   "execution_count": 35,
   "metadata": {
    "ExecuteTime": {
     "end_time": "2017-10-27T13:30:43.651521Z",
     "start_time": "2017-10-27T13:30:43.636905Z"
    }
   },
   "outputs": [
    {
     "data": {
      "text/plain": [
       "['insert0', 'zzzz', 1, True, 3.14, 'new appended value']"
      ]
     },
     "execution_count": 35,
     "metadata": {},
     "output_type": "execute_result"
    }
   ],
   "source": [
    "my_list"
   ]
  },
  {
   "cell_type": "code",
   "execution_count": 36,
   "metadata": {
    "ExecuteTime": {
     "end_time": "2017-10-27T13:32:05.929981Z",
     "start_time": "2017-10-27T13:32:05.923321Z"
    }
   },
   "outputs": [
    {
     "data": {
      "text/plain": [
       "['insert0', 'zzzz', 1, True, 3.14, 'new appended value']"
      ]
     },
     "execution_count": 36,
     "metadata": {},
     "output_type": "execute_result"
    }
   ],
   "source": [
    "# copy a list\n",
    "my_list.copy()"
   ]
  },
  {
   "cell_type": "code",
   "execution_count": 37,
   "metadata": {
    "ExecuteTime": {
     "end_time": "2017-10-27T13:32:16.908728Z",
     "start_time": "2017-10-27T13:32:16.896075Z"
    },
    "collapsed": true
   },
   "outputs": [],
   "source": [
    "my_list2 = my_list.copy()"
   ]
  },
  {
   "cell_type": "markdown",
   "metadata": {
    "collapsed": true
   },
   "source": [
    "# Tuples"
   ]
  },
  {
   "cell_type": "code",
   "execution_count": 38,
   "metadata": {
    "ExecuteTime": {
     "end_time": "2017-10-27T13:34:01.632297Z",
     "start_time": "2017-10-27T13:34:01.628533Z"
    },
    "collapsed": true
   },
   "outputs": [],
   "source": [
    "my_tuple = ('a', 1, True, 3.14)"
   ]
  },
  {
   "cell_type": "code",
   "execution_count": 39,
   "metadata": {
    "ExecuteTime": {
     "end_time": "2017-10-27T13:34:04.279527Z",
     "start_time": "2017-10-27T13:34:04.274116Z"
    }
   },
   "outputs": [
    {
     "data": {
      "text/plain": [
       "('a', 1, True, 3.14)"
      ]
     },
     "execution_count": 39,
     "metadata": {},
     "output_type": "execute_result"
    }
   ],
   "source": [
    "my_tuple"
   ]
  },
  {
   "cell_type": "code",
   "execution_count": 40,
   "metadata": {
    "ExecuteTime": {
     "end_time": "2017-10-27T13:34:10.972660Z",
     "start_time": "2017-10-27T13:34:10.967188Z"
    }
   },
   "outputs": [
    {
     "data": {
      "text/plain": [
       "tuple"
      ]
     },
     "execution_count": 40,
     "metadata": {},
     "output_type": "execute_result"
    }
   ],
   "source": [
    "type(my_tuple)"
   ]
  },
  {
   "cell_type": "code",
   "execution_count": 41,
   "metadata": {
    "ExecuteTime": {
     "end_time": "2017-10-27T13:34:32.929728Z",
     "start_time": "2017-10-27T13:34:32.917581Z"
    }
   },
   "outputs": [
    {
     "data": {
      "text/plain": [
       "'a'"
      ]
     },
     "execution_count": 41,
     "metadata": {},
     "output_type": "execute_result"
    }
   ],
   "source": [
    "my_tuple[0]"
   ]
  },
  {
   "cell_type": "code",
   "execution_count": 42,
   "metadata": {
    "ExecuteTime": {
     "end_time": "2017-10-27T13:34:53.338761Z",
     "start_time": "2017-10-27T13:34:53.322602Z"
    }
   },
   "outputs": [
    {
     "ename": "TypeError",
     "evalue": "'tuple' object does not support item assignment",
     "output_type": "error",
     "traceback": [
      "\u001b[0;31m--------------------------------------------------------\u001b[0m",
      "\u001b[0;31mTypeError\u001b[0m              Traceback (most recent call last)",
      "\u001b[0;32m<ipython-input-42-10f0644b2600>\u001b[0m in \u001b[0;36m<module>\u001b[0;34m()\u001b[0m\n\u001b[0;32m----> 1\u001b[0;31m \u001b[0mmy_tuple\u001b[0m\u001b[0;34m[\u001b[0m\u001b[0;36m0\u001b[0m\u001b[0;34m]\u001b[0m \u001b[0;34m=\u001b[0m \u001b[0;34m'zzzz'\u001b[0m\u001b[0;34m\u001b[0m\u001b[0m\n\u001b[0m",
      "\u001b[0;31mTypeError\u001b[0m: 'tuple' object does not support item assignment"
     ]
    }
   ],
   "source": [
    "my_tuple[0] = 'zzzz'"
   ]
  },
  {
   "cell_type": "markdown",
   "metadata": {
    "collapsed": true
   },
   "source": [
    "# Dictionaries"
   ]
  },
  {
   "cell_type": "code",
   "execution_count": 43,
   "metadata": {
    "ExecuteTime": {
     "end_time": "2017-10-27T13:36:17.290766Z",
     "start_time": "2017-10-27T13:36:17.285985Z"
    },
    "collapsed": true
   },
   "outputs": [],
   "source": [
    "my_dict = {'fname': 'Daniel'}\n"
   ]
  },
  {
   "cell_type": "code",
   "execution_count": 44,
   "metadata": {
    "ExecuteTime": {
     "end_time": "2017-10-27T13:36:19.936389Z",
     "start_time": "2017-10-27T13:36:19.930131Z"
    }
   },
   "outputs": [
    {
     "data": {
      "text/plain": [
       "{'fname': 'Daniel'}"
      ]
     },
     "execution_count": 44,
     "metadata": {},
     "output_type": "execute_result"
    }
   ],
   "source": [
    "my_dict"
   ]
  },
  {
   "cell_type": "code",
   "execution_count": 45,
   "metadata": {
    "ExecuteTime": {
     "end_time": "2017-10-27T13:38:53.196004Z",
     "start_time": "2017-10-27T13:38:53.192596Z"
    },
    "collapsed": true
   },
   "outputs": [],
   "source": [
    "my_dict = {'name': ['Daniel', 'Chen']}"
   ]
  },
  {
   "cell_type": "code",
   "execution_count": 47,
   "metadata": {
    "ExecuteTime": {
     "end_time": "2017-10-27T13:40:00.324677Z",
     "start_time": "2017-10-27T13:40:00.314316Z"
    }
   },
   "outputs": [],
   "source": [
    "my_dict = 3"
   ]
  },
  {
   "cell_type": "code",
   "execution_count": 48,
   "metadata": {
    "ExecuteTime": {
     "end_time": "2017-10-27T13:40:02.555582Z",
     "start_time": "2017-10-27T13:40:02.550584Z"
    }
   },
   "outputs": [
    {
     "data": {
      "text/plain": [
       "3"
      ]
     },
     "execution_count": 48,
     "metadata": {},
     "output_type": "execute_result"
    }
   ],
   "source": [
    "my_dict"
   ]
  },
  {
   "cell_type": "code",
   "execution_count": 49,
   "metadata": {
    "ExecuteTime": {
     "end_time": "2017-10-27T13:42:07.189227Z",
     "start_time": "2017-10-27T13:42:07.183581Z"
    }
   },
   "outputs": [
    {
     "data": {
      "text/plain": [
       "True"
      ]
     },
     "execution_count": 49,
     "metadata": {},
     "output_type": "execute_result"
    }
   ],
   "source": [
    "isinstance('this is a string', str)"
   ]
  },
  {
   "cell_type": "code",
   "execution_count": 51,
   "metadata": {
    "ExecuteTime": {
     "end_time": "2017-10-27T13:44:04.690844Z",
     "start_time": "2017-10-27T13:44:04.686152Z"
    },
    "collapsed": true
   },
   "outputs": [],
   "source": [
    "my_dict = {'name': ['Daniel', 'Chen'],\n",
    "          'languages': ['Python', \"R\"]}"
   ]
  },
  {
   "cell_type": "code",
   "execution_count": 52,
   "metadata": {
    "ExecuteTime": {
     "end_time": "2017-10-27T13:44:07.529416Z",
     "start_time": "2017-10-27T13:44:07.521879Z"
    }
   },
   "outputs": [
    {
     "data": {
      "text/plain": [
       "{'languages': ['Python', 'R'], 'name': ['Daniel', 'Chen']}"
      ]
     },
     "execution_count": 52,
     "metadata": {},
     "output_type": "execute_result"
    }
   ],
   "source": [
    "my_dict"
   ]
  },
  {
   "cell_type": "code",
   "execution_count": 53,
   "metadata": {
    "ExecuteTime": {
     "end_time": "2017-10-27T13:44:39.920430Z",
     "start_time": "2017-10-27T13:44:39.903187Z"
    }
   },
   "outputs": [
    {
     "data": {
      "text/plain": [
       "['Python', 'R']"
      ]
     },
     "execution_count": 53,
     "metadata": {},
     "output_type": "execute_result"
    }
   ],
   "source": [
    "my_dict['languages']"
   ]
  },
  {
   "cell_type": "code",
   "execution_count": 54,
   "metadata": {
    "ExecuteTime": {
     "end_time": "2017-10-27T13:44:50.369142Z",
     "start_time": "2017-10-27T13:44:50.336130Z"
    }
   },
   "outputs": [
    {
     "ename": "KeyError",
     "evalue": "'noExist'",
     "output_type": "error",
     "traceback": [
      "\u001b[0;31m--------------------------------------------------------\u001b[0m",
      "\u001b[0;31mKeyError\u001b[0m               Traceback (most recent call last)",
      "\u001b[0;32m<ipython-input-54-4c128fd7ee92>\u001b[0m in \u001b[0;36m<module>\u001b[0;34m()\u001b[0m\n\u001b[0;32m----> 1\u001b[0;31m \u001b[0mmy_dict\u001b[0m\u001b[0;34m[\u001b[0m\u001b[0;34m'noExist'\u001b[0m\u001b[0;34m]\u001b[0m\u001b[0;34m\u001b[0m\u001b[0m\n\u001b[0m",
      "\u001b[0;31mKeyError\u001b[0m: 'noExist'"
     ]
    }
   ],
   "source": [
    "my_dict['noExist']"
   ]
  },
  {
   "cell_type": "code",
   "execution_count": 56,
   "metadata": {
    "ExecuteTime": {
     "end_time": "2017-10-27T13:45:10.812708Z",
     "start_time": "2017-10-27T13:45:10.804532Z"
    }
   },
   "outputs": [
    {
     "data": {
      "text/plain": [
       "['Python', 'R']"
      ]
     },
     "execution_count": 56,
     "metadata": {},
     "output_type": "execute_result"
    }
   ],
   "source": [
    "my_dict.get('languages')"
   ]
  },
  {
   "cell_type": "code",
   "execution_count": 57,
   "metadata": {
    "ExecuteTime": {
     "end_time": "2017-10-27T13:45:21.290684Z",
     "start_time": "2017-10-27T13:45:21.286344Z"
    },
    "collapsed": true
   },
   "outputs": [],
   "source": [
    "my_dict.get('noExist')"
   ]
  },
  {
   "cell_type": "code",
   "execution_count": 58,
   "metadata": {
    "ExecuteTime": {
     "end_time": "2017-10-27T13:45:29.372172Z",
     "start_time": "2017-10-27T13:45:29.368210Z"
    }
   },
   "outputs": [
    {
     "name": "stdout",
     "output_type": "stream",
     "text": [
      "None\n"
     ]
    }
   ],
   "source": [
    "print(my_dict.get('noExist'))"
   ]
  },
  {
   "cell_type": "code",
   "execution_count": null,
   "metadata": {
    "collapsed": true
   },
   "outputs": [],
   "source": [
    "None"
   ]
  },
  {
   "cell_type": "code",
   "execution_count": 59,
   "metadata": {
    "ExecuteTime": {
     "end_time": "2017-10-27T13:46:25.399004Z",
     "start_time": "2017-10-27T13:46:25.393535Z"
    }
   },
   "outputs": [
    {
     "data": {
      "text/plain": [
       "dict_keys(['name', 'languages'])"
      ]
     },
     "execution_count": 59,
     "metadata": {},
     "output_type": "execute_result"
    }
   ],
   "source": [
    "my_dict.keys()"
   ]
  },
  {
   "cell_type": "code",
   "execution_count": 60,
   "metadata": {
    "ExecuteTime": {
     "end_time": "2017-10-27T13:46:33.353678Z",
     "start_time": "2017-10-27T13:46:33.344135Z"
    }
   },
   "outputs": [
    {
     "data": {
      "text/plain": [
       "dict_values([['Daniel', 'Chen'], ['Python', 'R']])"
      ]
     },
     "execution_count": 60,
     "metadata": {},
     "output_type": "execute_result"
    }
   ],
   "source": [
    "my_dict.values()"
   ]
  },
  {
   "cell_type": "code",
   "execution_count": 64,
   "metadata": {
    "ExecuteTime": {
     "end_time": "2017-10-27T13:47:15.757947Z",
     "start_time": "2017-10-27T13:47:15.752525Z"
    }
   },
   "outputs": [
    {
     "data": {
      "text/plain": [
       "dict_items([('name', ['Daniel', 'Chen']), ('languages', ['Python', 'R'])])"
      ]
     },
     "execution_count": 64,
     "metadata": {},
     "output_type": "execute_result"
    }
   ],
   "source": [
    "my_dict.items()"
   ]
  },
  {
   "cell_type": "code",
   "execution_count": 66,
   "metadata": {
    "ExecuteTime": {
     "end_time": "2017-10-27T13:48:59.704493Z",
     "start_time": "2017-10-27T13:48:59.698935Z"
    }
   },
   "outputs": [
    {
     "data": {
      "text/plain": [
       "{'new_item_1': 'new_item'}"
      ]
     },
     "execution_count": 66,
     "metadata": {},
     "output_type": "execute_result"
    }
   ],
   "source": [
    "new_item = {'new_item_1': 'new_item'}\n",
    "new_item"
   ]
  },
  {
   "cell_type": "code",
   "execution_count": 67,
   "metadata": {
    "ExecuteTime": {
     "end_time": "2017-10-27T13:49:09.004526Z",
     "start_time": "2017-10-27T13:49:09.001159Z"
    },
    "collapsed": true
   },
   "outputs": [],
   "source": [
    "my_dict.update(new_item)"
   ]
  },
  {
   "cell_type": "code",
   "execution_count": 68,
   "metadata": {
    "ExecuteTime": {
     "end_time": "2017-10-27T13:49:11.827146Z",
     "start_time": "2017-10-27T13:49:11.811381Z"
    }
   },
   "outputs": [
    {
     "data": {
      "text/plain": [
       "{'languages': ['Python', 'R'],\n",
       " 'name': ['Daniel', 'Chen'],\n",
       " 'new_item_1': 'new_item'}"
      ]
     },
     "execution_count": 68,
     "metadata": {},
     "output_type": "execute_result"
    }
   ],
   "source": [
    "my_dict"
   ]
  },
  {
   "cell_type": "code",
   "execution_count": 69,
   "metadata": {
    "ExecuteTime": {
     "end_time": "2017-10-27T13:50:12.327011Z",
     "start_time": "2017-10-27T13:50:12.320939Z"
    },
    "collapsed": true
   },
   "outputs": [],
   "source": [
    "new_replace = {\n",
    "    'languages': ['English', 'really bad chinese'],\n",
    "    'new_item_2': 'new_item'\n",
    "}\n",
    "my_dict.update(new_replace)"
   ]
  },
  {
   "cell_type": "code",
   "execution_count": 70,
   "metadata": {
    "ExecuteTime": {
     "end_time": "2017-10-27T13:50:15.254773Z",
     "start_time": "2017-10-27T13:50:15.250331Z"
    }
   },
   "outputs": [
    {
     "data": {
      "text/plain": [
       "{'languages': ['English', 'really bad chinese'],\n",
       " 'name': ['Daniel', 'Chen'],\n",
       " 'new_item_1': 'new_item',\n",
       " 'new_item_2': 'new_item'}"
      ]
     },
     "execution_count": 70,
     "metadata": {},
     "output_type": "execute_result"
    }
   ],
   "source": [
    "my_dict"
   ]
  },
  {
   "cell_type": "code",
   "execution_count": 71,
   "metadata": {
    "ExecuteTime": {
     "end_time": "2017-10-27T13:52:16.977339Z",
     "start_time": "2017-10-27T13:52:16.970908Z"
    },
    "collapsed": true
   },
   "outputs": [],
   "source": [
    "new_item_t = {\n",
    "    (3, 4): ['s1', 's2']\n",
    "}\n",
    "my_dict.update(new_item_t)"
   ]
  },
  {
   "cell_type": "code",
   "execution_count": 72,
   "metadata": {
    "ExecuteTime": {
     "end_time": "2017-10-27T13:52:19.680378Z",
     "start_time": "2017-10-27T13:52:19.675112Z"
    }
   },
   "outputs": [
    {
     "data": {
      "text/plain": [
       "{'name': ['Daniel', 'Chen'],\n",
       " 'languages': ['English', 'really bad chinese'],\n",
       " 'new_item_1': 'new_item',\n",
       " 'new_item_2': 'new_item',\n",
       " (3, 4): ['s1', 's2']}"
      ]
     },
     "execution_count": 72,
     "metadata": {},
     "output_type": "execute_result"
    }
   ],
   "source": [
    "my_dict"
   ]
  },
  {
   "cell_type": "code",
   "execution_count": 73,
   "metadata": {
    "ExecuteTime": {
     "end_time": "2017-10-27T13:52:31.201743Z",
     "start_time": "2017-10-27T13:52:31.196065Z"
    }
   },
   "outputs": [
    {
     "data": {
      "text/plain": [
       "['s1', 's2']"
      ]
     },
     "execution_count": 73,
     "metadata": {},
     "output_type": "execute_result"
    }
   ],
   "source": [
    "my_dict[(3, 4)]"
   ]
  },
  {
   "cell_type": "code",
   "execution_count": 77,
   "metadata": {
    "ExecuteTime": {
     "end_time": "2017-10-27T13:55:03.371684Z",
     "start_time": "2017-10-27T13:55:03.360924Z"
    }
   },
   "outputs": [
    {
     "data": {
      "text/plain": [
       "{'name': ['Daniel', 'Chen'],\n",
       " 'languages': 'asdf',\n",
       " 'new_item_1': 'new_item',\n",
       " 'new_item_2': 'new_item',\n",
       " (3, 4): ['s1', 's2']}"
      ]
     },
     "execution_count": 77,
     "metadata": {},
     "output_type": "execute_result"
    }
   ],
   "source": [
    "my_dict['languages'] = 'asdf'\n",
    "my_dict"
   ]
  },
  {
   "cell_type": "markdown",
   "metadata": {
    "collapsed": true
   },
   "source": [
    "# Looping through containers"
   ]
  },
  {
   "cell_type": "code",
   "execution_count": 2,
   "metadata": {
    "ExecuteTime": {
     "end_time": "2017-12-03T22:01:17.565623Z",
     "start_time": "2017-12-03T22:01:17.551756Z"
    }
   },
   "outputs": [
    {
     "data": {
      "text/plain": [
       "['a', 1, True, 3.14]"
      ]
     },
     "execution_count": 2,
     "metadata": {},
     "output_type": "execute_result"
    }
   ],
   "source": [
    "my_list = ['a', 1, True, 3.14]\n",
    "my_list"
   ]
  },
  {
   "cell_type": "code",
   "execution_count": 3,
   "metadata": {
    "ExecuteTime": {
     "end_time": "2017-12-03T22:01:17.848164Z",
     "start_time": "2017-12-03T22:01:17.842355Z"
    }
   },
   "outputs": [
    {
     "name": "stdout",
     "output_type": "stream",
     "text": [
      "in list\n",
      "a\n",
      "in list\n",
      "1\n",
      "in list\n",
      "True\n",
      "in list\n",
      "3.14\n",
      "out of loop\n"
     ]
    }
   ],
   "source": [
    "for item in my_list:\n",
    "    print('in list')\n",
    "    print(item)\n",
    "    \n",
    "print('out of loop')"
   ]
  },
  {
   "cell_type": "code",
   "execution_count": 4,
   "metadata": {
    "ExecuteTime": {
     "end_time": "2017-12-03T22:01:18.616050Z",
     "start_time": "2017-12-03T22:01:18.610286Z"
    }
   },
   "outputs": [
    {
     "name": "stdout",
     "output_type": "stream",
     "text": [
      "a\n",
      "1\n",
      "True\n",
      "3.14\n"
     ]
    }
   ],
   "source": [
    "idx = 0\n",
    "for item in my_list:\n",
    "    print(my_list[idx])\n",
    "    # idx = idx + 1\n",
    "    idx += 1"
   ]
  },
  {
   "cell_type": "code",
   "execution_count": 6,
   "metadata": {
    "ExecuteTime": {
     "end_time": "2017-12-03T22:01:30.109219Z",
     "start_time": "2017-12-03T22:01:30.101610Z"
    }
   },
   "outputs": [
    {
     "name": "stdout",
     "output_type": "stream",
     "text": [
      "0\n",
      "a\n",
      "********************************************************************************\n",
      "1\n",
      "1\n",
      "********************************************************************************\n",
      "2\n",
      "True\n",
      "********************************************************************************\n",
      "3\n",
      "3.14\n",
      "********************************************************************************\n"
     ]
    }
   ],
   "source": [
    "# enumerate returns the index and the value in the list\n",
    "for idx, item in enumerate(my_list):\n",
    "    print(idx)\n",
    "    print(item)\n",
    "    print('*'*80)"
   ]
  },
  {
   "cell_type": "code",
   "execution_count": 87,
   "metadata": {
    "ExecuteTime": {
     "end_time": "2017-10-27T14:04:50.775878Z",
     "start_time": "2017-10-27T14:04:50.768591Z"
    }
   },
   "outputs": [
    {
     "name": "stdout",
     "output_type": "stream",
     "text": [
      "name\n",
      "['Daniel', 'Chen']\n",
      "languages\n",
      "asdf\n",
      "new_item_1\n",
      "new_item\n",
      "new_item_2\n",
      "new_item\n",
      "(3, 4)\n",
      "['s1', 's2']\n"
     ]
    }
   ],
   "source": [
    "# to itherate through a dictionary you can iteratate through the `items`\n",
    "for k, v in my_dict.items():\n",
    "    print(k)\n",
    "    print(v)"
   ]
  },
  {
   "cell_type": "markdown",
   "metadata": {
    "ExecuteTime": {
     "end_time": "2017-12-03T22:08:06.019466Z",
     "start_time": "2017-12-03T22:08:06.016991Z"
    }
   },
   "source": [
    "# Passing by reference"
   ]
  },
  {
   "cell_type": "code",
   "execution_count": 88,
   "metadata": {
    "ExecuteTime": {
     "end_time": "2017-10-27T14:06:13.923407Z",
     "start_time": "2017-10-27T14:06:13.919649Z"
    },
    "collapsed": true
   },
   "outputs": [],
   "source": [
    "# the below series of code should be something you should remember\n",
    "# when you think you are subsetting and 'saving' a slice of your list\n",
    "# when you actually end up working directly on the list\n",
    "# this is when you would use 'copy'\n",
    "l = [1, 2, 3, [4, 5, 6]]"
   ]
  },
  {
   "cell_type": "code",
   "execution_count": 89,
   "metadata": {
    "ExecuteTime": {
     "end_time": "2017-10-27T14:06:33.819034Z",
     "start_time": "2017-10-27T14:06:33.815735Z"
    },
    "collapsed": true
   },
   "outputs": [],
   "source": [
    "b = l[3]"
   ]
  },
  {
   "cell_type": "code",
   "execution_count": 90,
   "metadata": {
    "ExecuteTime": {
     "end_time": "2017-10-27T14:06:35.853068Z",
     "start_time": "2017-10-27T14:06:35.846209Z"
    }
   },
   "outputs": [
    {
     "data": {
      "text/plain": [
       "[1, 2, 3, [4, 5, 6]]"
      ]
     },
     "execution_count": 90,
     "metadata": {},
     "output_type": "execute_result"
    }
   ],
   "source": [
    "l"
   ]
  },
  {
   "cell_type": "code",
   "execution_count": 91,
   "metadata": {
    "ExecuteTime": {
     "end_time": "2017-10-27T14:06:37.719036Z",
     "start_time": "2017-10-27T14:06:37.712179Z"
    }
   },
   "outputs": [
    {
     "data": {
      "text/plain": [
       "[4, 5, 6]"
      ]
     },
     "execution_count": 91,
     "metadata": {},
     "output_type": "execute_result"
    }
   ],
   "source": [
    "b"
   ]
  },
  {
   "cell_type": "code",
   "execution_count": 93,
   "metadata": {
    "ExecuteTime": {
     "end_time": "2017-10-27T14:06:49.214416Z",
     "start_time": "2017-10-27T14:06:49.210814Z"
    }
   },
   "outputs": [],
   "source": [
    "b[0] = 'asdf'"
   ]
  },
  {
   "cell_type": "code",
   "execution_count": 94,
   "metadata": {
    "ExecuteTime": {
     "end_time": "2017-10-27T14:06:53.011847Z",
     "start_time": "2017-10-27T14:06:53.006601Z"
    }
   },
   "outputs": [
    {
     "data": {
      "text/plain": [
       "['asdf', 5, 6]"
      ]
     },
     "execution_count": 94,
     "metadata": {},
     "output_type": "execute_result"
    }
   ],
   "source": [
    "b"
   ]
  },
  {
   "cell_type": "code",
   "execution_count": 95,
   "metadata": {
    "ExecuteTime": {
     "end_time": "2017-10-27T14:06:56.768134Z",
     "start_time": "2017-10-27T14:06:56.761393Z"
    }
   },
   "outputs": [
    {
     "data": {
      "text/plain": [
       "[1, 2, 3, ['asdf', 5, 6]]"
      ]
     },
     "execution_count": 95,
     "metadata": {},
     "output_type": "execute_result"
    }
   ],
   "source": [
    "l"
   ]
  },
  {
   "cell_type": "code",
   "execution_count": null,
   "metadata": {
    "collapsed": true
   },
   "outputs": [],
   "source": [
    "# copy\n",
    "# deepcopy"
   ]
  },
  {
   "cell_type": "code",
   "execution_count": 96,
   "metadata": {
    "ExecuteTime": {
     "end_time": "2017-10-27T14:08:32.918154Z",
     "start_time": "2017-10-27T14:08:32.914785Z"
    },
    "collapsed": true
   },
   "outputs": [],
   "source": [
    "l = [1, 2, 3]"
   ]
  },
  {
   "cell_type": "code",
   "execution_count": null,
   "metadata": {},
   "outputs": [],
   "source": [
    "# ipython timeit magic"
   ]
  },
  {
   "cell_type": "code",
   "execution_count": 107,
   "metadata": {
    "ExecuteTime": {
     "end_time": "2017-10-27T14:13:19.007006Z",
     "start_time": "2017-10-27T14:13:12.434923Z"
    }
   },
   "outputs": [
    {
     "name": "stdout",
     "output_type": "stream",
     "text": [
      "804 ns ± 38.4 ns per loop (mean ± std. dev. of 7 runs, 1000000 loops each)\n"
     ]
    }
   ],
   "source": [
    "%%timeit\n",
    "l2 = []\n",
    "for i in l:\n",
    "    l2.append(i * i)"
   ]
  },
  {
   "cell_type": "code",
   "execution_count": 98,
   "metadata": {
    "ExecuteTime": {
     "end_time": "2017-10-27T14:09:57.080973Z",
     "start_time": "2017-10-27T14:09:57.075955Z"
    }
   },
   "outputs": [
    {
     "data": {
      "text/plain": [
       "[1, 4, 9]"
      ]
     },
     "execution_count": 98,
     "metadata": {},
     "output_type": "execute_result"
    }
   ],
   "source": [
    "l2"
   ]
  },
  {
   "cell_type": "code",
   "execution_count": 108,
   "metadata": {
    "ExecuteTime": {
     "end_time": "2017-10-27T14:13:39.241557Z",
     "start_time": "2017-10-27T14:13:33.220307Z"
    }
   },
   "outputs": [
    {
     "name": "stdout",
     "output_type": "stream",
     "text": [
      "739 ns ± 101 ns per loop (mean ± std. dev. of 7 runs, 1000000 loops each)\n"
     ]
    }
   ],
   "source": [
    "%%timeit\n",
    "lc = [i*i for i in l]"
   ]
  },
  {
   "cell_type": "code",
   "execution_count": 100,
   "metadata": {
    "ExecuteTime": {
     "end_time": "2017-10-27T14:12:24.441676Z",
     "start_time": "2017-10-27T14:12:24.428559Z"
    }
   },
   "outputs": [
    {
     "data": {
      "text/plain": [
       "[1, 4, 9]"
      ]
     },
     "execution_count": 100,
     "metadata": {},
     "output_type": "execute_result"
    }
   ],
   "source": [
    "lc"
   ]
  },
  {
   "cell_type": "markdown",
   "metadata": {},
   "source": [
    "# Python ranges\n"
   ]
  },
  {
   "cell_type": "code",
   "execution_count": null,
   "metadata": {},
   "outputs": [],
   "source": [
    "for i in [12, 3, 4]:\n",
    "    print(i)"
   ]
  },
  {
   "cell_type": "code",
   "execution_count": 110,
   "metadata": {
    "ExecuteTime": {
     "end_time": "2017-10-27T14:15:36.268374Z",
     "start_time": "2017-10-27T14:15:36.263072Z"
    }
   },
   "outputs": [
    {
     "name": "stdout",
     "output_type": "stream",
     "text": [
      "0\n",
      "1\n",
      "2\n",
      "3\n",
      "4\n",
      "5\n",
      "6\n",
      "7\n",
      "8\n",
      "9\n"
     ]
    }
   ],
   "source": [
    "for i in range(10):\n",
    "    print(i)"
   ]
  },
  {
   "cell_type": "code",
   "execution_count": 111,
   "metadata": {
    "ExecuteTime": {
     "end_time": "2017-10-27T14:15:43.672229Z",
     "start_time": "2017-10-27T14:15:43.667371Z"
    }
   },
   "outputs": [
    {
     "data": {
      "text/plain": [
       "range(0, 10)"
      ]
     },
     "execution_count": 111,
     "metadata": {},
     "output_type": "execute_result"
    }
   ],
   "source": [
    "range(10)"
   ]
  },
  {
   "cell_type": "code",
   "execution_count": 112,
   "metadata": {
    "ExecuteTime": {
     "end_time": "2017-10-27T14:15:54.161978Z",
     "start_time": "2017-10-27T14:15:54.154754Z"
    }
   },
   "outputs": [
    {
     "data": {
      "text/plain": [
       "[0, 1, 2, 3, 4, 5, 6, 7, 8, 9]"
      ]
     },
     "execution_count": 112,
     "metadata": {},
     "output_type": "execute_result"
    }
   ],
   "source": [
    "list(range(10))"
   ]
  },
  {
   "cell_type": "markdown",
   "metadata": {},
   "source": [
    "# Generators and cartesian products"
   ]
  },
  {
   "cell_type": "code",
   "execution_count": 15,
   "metadata": {
    "ExecuteTime": {
     "end_time": "2017-12-03T22:15:35.261476Z",
     "start_time": "2017-12-03T22:15:35.257993Z"
    }
   },
   "outputs": [],
   "source": [
    "import itertools"
   ]
  },
  {
   "cell_type": "code",
   "execution_count": 16,
   "metadata": {
    "ExecuteTime": {
     "end_time": "2017-12-03T22:15:35.554680Z",
     "start_time": "2017-12-03T22:15:35.551463Z"
    }
   },
   "outputs": [],
   "source": [
    "prod = itertools.product([1, 2, 3], ['a', 'b', 'c'], [10, 20, 30])"
   ]
  },
  {
   "cell_type": "code",
   "execution_count": 17,
   "metadata": {
    "ExecuteTime": {
     "end_time": "2017-12-03T22:15:35.835280Z",
     "start_time": "2017-12-03T22:15:35.830219Z"
    }
   },
   "outputs": [
    {
     "data": {
      "text/plain": [
       "<itertools.product at 0x7f5b85554e58>"
      ]
     },
     "execution_count": 17,
     "metadata": {},
     "output_type": "execute_result"
    }
   ],
   "source": [
    "prod"
   ]
  },
  {
   "cell_type": "code",
   "execution_count": 18,
   "metadata": {
    "ExecuteTime": {
     "end_time": "2017-12-03T22:15:36.139907Z",
     "start_time": "2017-12-03T22:15:36.121838Z"
    }
   },
   "outputs": [
    {
     "name": "stdout",
     "output_type": "stream",
     "text": [
      "0\n",
      "(1, 'a', 10)\n",
      "[1, 'a', 10]\n",
      "1\n",
      "(1, 'a', 20)\n",
      "[1, 'a', 20]\n",
      "2\n",
      "(1, 'a', 30)\n",
      "[1, 'a', 30]\n",
      "3\n",
      "(1, 'b', 10)\n",
      "[1, 'b', 10]\n",
      "4\n",
      "(1, 'b', 20)\n",
      "[1, 'b', 20]\n",
      "5\n",
      "(1, 'b', 30)\n",
      "[1, 'b', 30]\n",
      "6\n",
      "(1, 'c', 10)\n",
      "[1, 'c', 10]\n",
      "7\n",
      "(1, 'c', 20)\n",
      "[1, 'c', 20]\n",
      "8\n",
      "(1, 'c', 30)\n",
      "[1, 'c', 30]\n",
      "9\n",
      "(2, 'a', 10)\n",
      "[2, 'a', 10]\n",
      "10\n",
      "(2, 'a', 20)\n",
      "[2, 'a', 20]\n",
      "11\n",
      "(2, 'a', 30)\n",
      "[2, 'a', 30]\n",
      "12\n",
      "(2, 'b', 10)\n",
      "[2, 'b', 10]\n",
      "13\n",
      "(2, 'b', 20)\n",
      "[2, 'b', 20]\n",
      "14\n",
      "(2, 'b', 30)\n",
      "[2, 'b', 30]\n",
      "15\n",
      "(2, 'c', 10)\n",
      "[2, 'c', 10]\n",
      "16\n",
      "(2, 'c', 20)\n",
      "[2, 'c', 20]\n",
      "17\n",
      "(2, 'c', 30)\n",
      "[2, 'c', 30]\n",
      "18\n",
      "(3, 'a', 10)\n",
      "[3, 'a', 10]\n",
      "19\n",
      "(3, 'a', 20)\n",
      "[3, 'a', 20]\n",
      "20\n",
      "(3, 'a', 30)\n",
      "[3, 'a', 30]\n",
      "21\n",
      "(3, 'b', 10)\n",
      "[3, 'b', 10]\n",
      "22\n",
      "(3, 'b', 20)\n",
      "[3, 'b', 20]\n",
      "23\n",
      "(3, 'b', 30)\n",
      "[3, 'b', 30]\n",
      "24\n",
      "(3, 'c', 10)\n",
      "[3, 'c', 10]\n",
      "25\n",
      "(3, 'c', 20)\n",
      "[3, 'c', 20]\n",
      "26\n",
      "(3, 'c', 30)\n",
      "[3, 'c', 30]\n"
     ]
    }
   ],
   "source": [
    "for idx, i in enumerate(prod):\n",
    "    print(idx)\n",
    "    print(i)\n",
    "    values = list(i)\n",
    "    print(values)"
   ]
  },
  {
   "cell_type": "code",
   "execution_count": 19,
   "metadata": {
    "ExecuteTime": {
     "end_time": "2017-12-03T22:15:36.925779Z",
     "start_time": "2017-12-03T22:15:36.920714Z"
    }
   },
   "outputs": [
    {
     "data": {
      "text/plain": [
       "<itertools.product at 0x7f5b85554e58>"
      ]
     },
     "execution_count": 19,
     "metadata": {},
     "output_type": "execute_result"
    }
   ],
   "source": [
    "# we still have our product iterator,\n",
    "# however since we've already exhausted the generator,\n",
    "# if you run the above code again\n",
    "# without re-creating the generator\n",
    "# it will return nothing\n",
    "prod"
   ]
  },
  {
   "cell_type": "code",
   "execution_count": 20,
   "metadata": {
    "ExecuteTime": {
     "end_time": "2017-12-03T22:16:14.774605Z",
     "start_time": "2017-12-03T22:16:14.768921Z"
    }
   },
   "outputs": [],
   "source": [
    "for idx, i in enumerate(prod):\n",
    "    print(idx)\n",
    "    print(i)\n",
    "    values = list(i)\n",
    "    print(values)"
   ]
  },
  {
   "cell_type": "markdown",
   "metadata": {},
   "source": [
    "# Functions and arbitrary number of inputs"
   ]
  },
  {
   "cell_type": "code",
   "execution_count": 8,
   "metadata": {
    "ExecuteTime": {
     "end_time": "2017-12-03T22:15:04.572886Z",
     "start_time": "2017-12-03T22:15:04.568850Z"
    }
   },
   "outputs": [],
   "source": [
    "def my_mean(x, y):\n",
    "    return (x + y) / 2"
   ]
  },
  {
   "cell_type": "code",
   "execution_count": 131,
   "metadata": {
    "ExecuteTime": {
     "end_time": "2017-10-27T14:25:29.677339Z",
     "start_time": "2017-10-27T14:25:29.670544Z"
    }
   },
   "outputs": [
    {
     "data": {
      "text/plain": [
       "15.0"
      ]
     },
     "execution_count": 131,
     "metadata": {},
     "output_type": "execute_result"
    }
   ],
   "source": [
    "my_mean(10, 20)"
   ]
  },
  {
   "cell_type": "code",
   "execution_count": 132,
   "metadata": {
    "ExecuteTime": {
     "end_time": "2017-10-27T14:27:50.849414Z",
     "start_time": "2017-10-27T14:27:50.836255Z"
    },
    "collapsed": true
   },
   "outputs": [],
   "source": [
    "def my_mean(*args):\n",
    "    total = 0\n",
    "    count = 0\n",
    "    for i in args:\n",
    "        total += i\n",
    "        count += 1\n",
    "    return total / count"
   ]
  },
  {
   "cell_type": "code",
   "execution_count": 133,
   "metadata": {
    "ExecuteTime": {
     "end_time": "2017-10-27T14:27:58.169701Z",
     "start_time": "2017-10-27T14:27:58.164418Z"
    }
   },
   "outputs": [
    {
     "data": {
      "text/plain": [
       "15.0"
      ]
     },
     "execution_count": 133,
     "metadata": {},
     "output_type": "execute_result"
    }
   ],
   "source": [
    "my_mean(10, 15, 20)"
   ]
  },
  {
   "cell_type": "code",
   "execution_count": 134,
   "metadata": {
    "ExecuteTime": {
     "end_time": "2017-10-27T14:28:03.698804Z",
     "start_time": "2017-10-27T14:28:03.692434Z"
    }
   },
   "outputs": [
    {
     "data": {
      "text/plain": [
       "15.0"
      ]
     },
     "execution_count": 134,
     "metadata": {},
     "output_type": "execute_result"
    }
   ],
   "source": [
    "my_mean(10, 20)"
   ]
  },
  {
   "cell_type": "code",
   "execution_count": 135,
   "metadata": {
    "ExecuteTime": {
     "end_time": "2017-10-27T14:28:10.672108Z",
     "start_time": "2017-10-27T14:28:10.667107Z"
    }
   },
   "outputs": [
    {
     "data": {
      "text/plain": [
       "50.0"
      ]
     },
     "execution_count": 135,
     "metadata": {},
     "output_type": "execute_result"
    }
   ],
   "source": [
    "my_mean(0, 100)"
   ]
  },
  {
   "cell_type": "code",
   "execution_count": 136,
   "metadata": {
    "ExecuteTime": {
     "end_time": "2017-10-27T14:28:37.355253Z",
     "start_time": "2017-10-27T14:28:37.345554Z"
    },
    "collapsed": true
   },
   "outputs": [],
   "source": [
    "def my_mean(x, *args):\n",
    "    total = 0\n",
    "    count = 0\n",
    "    for i in args:\n",
    "        total += i\n",
    "        count += 1\n",
    "    return total / count"
   ]
  },
  {
   "cell_type": "code",
   "execution_count": 138,
   "metadata": {
    "ExecuteTime": {
     "end_time": "2017-10-27T14:28:55.827958Z",
     "start_time": "2017-10-27T14:28:55.822779Z"
    }
   },
   "outputs": [
    {
     "data": {
      "text/plain": [
       "17.5"
      ]
     },
     "execution_count": 138,
     "metadata": {},
     "output_type": "execute_result"
    }
   ],
   "source": [
    "my_mean(10, 15, 20)"
   ]
  },
  {
   "cell_type": "code",
   "execution_count": null,
   "metadata": {
    "collapsed": true
   },
   "outputs": [],
   "source": [
    "def my_mean(x, y=0, *args, **kwargs):\n",
    "    total = 0\n",
    "    count = 0\n",
    "    for i in args:\n",
    "        total += i\n",
    "        count += 1\n",
    "    return total / count"
   ]
  },
  {
   "cell_type": "markdown",
   "metadata": {
    "collapsed": true
   },
   "source": [
    "# Classes and Objects"
   ]
  },
  {
   "cell_type": "code",
   "execution_count": 24,
   "metadata": {
    "ExecuteTime": {
     "end_time": "2017-12-03T22:17:15.272469Z",
     "start_time": "2017-12-03T22:17:15.258672Z"
    }
   },
   "outputs": [],
   "source": [
    "class Person(object):\n",
    "    def __init__(self, fname, lname, age):\n",
    "        \"\"\"this is the constructor\n",
    "        \"\"\"\n",
    "        self.first_name = fname\n",
    "        self.last_name = lname\n",
    "        self.age = age\n",
    "    def birthday(self):\n",
    "        self.age += 1\n",
    "        print('happy birthday')\n",
    "    \n",
    "    def sum(x, y):\n",
    "        return x + y\n",
    "        "
   ]
  },
  {
   "cell_type": "code",
   "execution_count": 25,
   "metadata": {
    "ExecuteTime": {
     "end_time": "2017-12-03T22:17:15.527380Z",
     "start_time": "2017-12-03T22:17:15.523841Z"
    }
   },
   "outputs": [],
   "source": [
    "p1 = Person('daniel', 'chen', 28)"
   ]
  },
  {
   "cell_type": "code",
   "execution_count": 26,
   "metadata": {
    "ExecuteTime": {
     "end_time": "2017-12-03T22:17:15.836643Z",
     "start_time": "2017-12-03T22:17:15.828824Z"
    }
   },
   "outputs": [
    {
     "data": {
      "text/plain": [
       "<__main__.Person at 0x7f5b85422898>"
      ]
     },
     "execution_count": 26,
     "metadata": {},
     "output_type": "execute_result"
    }
   ],
   "source": [
    "p1"
   ]
  },
  {
   "cell_type": "code",
   "execution_count": 27,
   "metadata": {
    "ExecuteTime": {
     "end_time": "2017-12-03T22:17:15.976453Z",
     "start_time": "2017-12-03T22:17:15.972045Z"
    }
   },
   "outputs": [
    {
     "data": {
      "text/plain": [
       "'daniel'"
      ]
     },
     "execution_count": 27,
     "metadata": {},
     "output_type": "execute_result"
    }
   ],
   "source": [
    "p1.first_name"
   ]
  },
  {
   "cell_type": "code",
   "execution_count": 28,
   "metadata": {
    "ExecuteTime": {
     "end_time": "2017-12-03T22:17:16.168914Z",
     "start_time": "2017-12-03T22:17:16.162559Z"
    }
   },
   "outputs": [
    {
     "data": {
      "text/plain": [
       "28"
      ]
     },
     "execution_count": 28,
     "metadata": {},
     "output_type": "execute_result"
    }
   ],
   "source": [
    "p1.age"
   ]
  },
  {
   "cell_type": "code",
   "execution_count": 29,
   "metadata": {
    "ExecuteTime": {
     "end_time": "2017-12-03T22:17:16.482352Z",
     "start_time": "2017-12-03T22:17:16.477692Z"
    }
   },
   "outputs": [
    {
     "name": "stdout",
     "output_type": "stream",
     "text": [
      "happy birthday\n"
     ]
    }
   ],
   "source": [
    "p1.birthday()"
   ]
  },
  {
   "cell_type": "code",
   "execution_count": 30,
   "metadata": {
    "ExecuteTime": {
     "end_time": "2017-12-03T22:17:16.627496Z",
     "start_time": "2017-12-03T22:17:16.622853Z"
    }
   },
   "outputs": [
    {
     "data": {
      "text/plain": [
       "29"
      ]
     },
     "execution_count": 30,
     "metadata": {},
     "output_type": "execute_result"
    }
   ],
   "source": [
    "p1.age"
   ]
  },
  {
   "cell_type": "code",
   "execution_count": 31,
   "metadata": {
    "ExecuteTime": {
     "end_time": "2017-12-03T22:17:16.927152Z",
     "start_time": "2017-12-03T22:17:16.922414Z"
    }
   },
   "outputs": [
    {
     "data": {
      "text/plain": [
       "7"
      ]
     },
     "execution_count": 31,
     "metadata": {},
     "output_type": "execute_result"
    }
   ],
   "source": [
    "Person.sum(3, 4)"
   ]
  },
  {
   "cell_type": "code",
   "execution_count": 32,
   "metadata": {
    "ExecuteTime": {
     "end_time": "2017-12-03T22:17:17.111558Z",
     "start_time": "2017-12-03T22:17:17.108757Z"
    }
   },
   "outputs": [],
   "source": [
    "p1.yo = 3"
   ]
  },
  {
   "cell_type": "code",
   "execution_count": 33,
   "metadata": {
    "ExecuteTime": {
     "end_time": "2017-12-03T22:17:18.309163Z",
     "start_time": "2017-12-03T22:17:18.304752Z"
    }
   },
   "outputs": [
    {
     "data": {
      "text/plain": [
       "3"
      ]
     },
     "execution_count": 33,
     "metadata": {},
     "output_type": "execute_result"
    }
   ],
   "source": [
    "p1.yo"
   ]
  },
  {
   "cell_type": "markdown",
   "metadata": {
    "ExecuteTime": {
     "end_time": "2017-12-03T22:17:03.813267Z",
     "start_time": "2017-12-03T22:17:03.810151Z"
    }
   },
   "source": [
    "# Class inheritance"
   ]
  },
  {
   "cell_type": "markdown",
   "metadata": {},
   "source": [
    "Watch this for inheritance!\n",
    "\n",
    "Super in python does not do what Super does in other languages!\n",
    "\n",
    "https://www.youtube.com/watch?v=EiOglTERPEo"
   ]
  },
  {
   "cell_type": "code",
   "execution_count": 40,
   "metadata": {
    "ExecuteTime": {
     "end_time": "2017-12-03T22:25:38.870687Z",
     "start_time": "2017-12-03T22:25:38.866780Z"
    }
   },
   "outputs": [],
   "source": [
    "class Daniel(Person):\n",
    "    def __init__(self):\n",
    "        super(Daniel, self).__init__('Daniel', 'Chen', 28)"
   ]
  },
  {
   "cell_type": "code",
   "execution_count": 41,
   "metadata": {
    "ExecuteTime": {
     "end_time": "2017-12-03T22:25:39.172160Z",
     "start_time": "2017-12-03T22:25:39.168871Z"
    }
   },
   "outputs": [],
   "source": [
    "d = Daniel()"
   ]
  },
  {
   "cell_type": "code",
   "execution_count": 42,
   "metadata": {
    "ExecuteTime": {
     "end_time": "2017-12-03T22:25:39.484797Z",
     "start_time": "2017-12-03T22:25:39.475039Z"
    }
   },
   "outputs": [
    {
     "data": {
      "text/plain": [
       "<__main__.Daniel at 0x7f5b853d3cc0>"
      ]
     },
     "execution_count": 42,
     "metadata": {},
     "output_type": "execute_result"
    }
   ],
   "source": [
    "d"
   ]
  },
  {
   "cell_type": "code",
   "execution_count": 43,
   "metadata": {
    "ExecuteTime": {
     "end_time": "2017-12-03T22:25:39.773186Z",
     "start_time": "2017-12-03T22:25:39.768911Z"
    }
   },
   "outputs": [
    {
     "data": {
      "text/plain": [
       "'Daniel'"
      ]
     },
     "execution_count": 43,
     "metadata": {},
     "output_type": "execute_result"
    }
   ],
   "source": [
    "d.first_name"
   ]
  },
  {
   "cell_type": "code",
   "execution_count": null,
   "metadata": {},
   "outputs": [],
   "source": []
  }
 ],
 "metadata": {
  "kernelspec": {
   "display_name": "Python 3",
   "language": "python",
   "name": "python3"
  },
  "language_info": {
   "codemirror_mode": {
    "name": "ipython",
    "version": 3
   },
   "file_extension": ".py",
   "mimetype": "text/x-python",
   "name": "python",
   "nbconvert_exporter": "python",
   "pygments_lexer": "ipython3",
   "version": "3.6.3"
  },
  "toc": {
   "colors": {
    "hover_highlight": "#DAA520",
    "navigate_num": "#000000",
    "navigate_text": "#333333",
    "running_highlight": "#FF0000",
    "selected_highlight": "#FFD700",
    "sidebar_border": "#EEEEEE",
    "wrapper_background": "#FFFFFF"
   },
   "moveMenuLeft": true,
   "nav_menu": {
    "height": "12px",
    "width": "252px"
   },
   "navigate_menu": true,
   "number_sections": true,
   "sideBar": true,
   "threshold": 4,
   "toc_cell": true,
   "toc_section_display": "block",
   "toc_window_display": true,
   "widenNotebook": false
  }
 },
 "nbformat": 4,
 "nbformat_minor": 2
}
