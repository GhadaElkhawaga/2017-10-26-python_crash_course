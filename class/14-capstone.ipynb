{
 "cells": [
  {
   "cell_type": "markdown",
   "metadata": {
    "toc": "true"
   },
   "source": [
    "# Table of Contents\n",
    " <p>"
   ]
  },
  {
   "cell_type": "markdown",
   "metadata": {},
   "source": []
  },
  {
   "cell_type": "markdown",
   "metadata": {},
   "source": [
    "- Explore `g1800s` in the IPython Shell using methods such as `.head()`, `.info()`, and `.describe()`."
   ]
  },
  {
   "cell_type": "code",
   "execution_count": 2,
   "metadata": {
    "ExecuteTime": {
     "end_time": "2017-10-27T19:55:05.775478Z",
     "start_time": "2017-10-27T19:55:05.755603Z"
    }
   },
   "outputs": [],
   "source": [
    "import pandas as pd\n",
    "\n",
    "g1800s = pd.read_csv('/home/dchen/Desktop/capstone/data/original/g1800 .txt')"
   ]
  },
  {
   "cell_type": "code",
   "execution_count": 3,
   "metadata": {
    "ExecuteTime": {
     "end_time": "2017-10-27T19:55:17.356354Z",
     "start_time": "2017-10-27T19:55:17.341873Z"
    }
   },
   "outputs": [
    {
     "name": "stdout",
     "output_type": "stream",
     "text": [
      "<class 'pandas.core.frame.DataFrame'>\n",
      "RangeIndex: 260 entries, 0 to 259\n",
      "Columns: 101 entries, Life expectancy to 1899\n",
      "dtypes: float64(100), object(1)\n",
      "memory usage: 205.2+ KB\n"
     ]
    }
   ],
   "source": [
    "g1800s.info()"
   ]
  },
  {
   "cell_type": "code",
   "execution_count": 4,
   "metadata": {
    "ExecuteTime": {
     "end_time": "2017-10-27T19:55:27.261540Z",
     "start_time": "2017-10-27T19:55:26.944175Z"
    }
   },
   "outputs": [
    {
     "data": {
      "text/html": [
       "<div>\n",
       "<style>\n",
       "    .dataframe thead tr:only-child th {\n",
       "        text-align: right;\n",
       "    }\n",
       "\n",
       "    .dataframe thead th {\n",
       "        text-align: left;\n",
       "    }\n",
       "\n",
       "    .dataframe tbody tr th {\n",
       "        vertical-align: top;\n",
       "    }\n",
       "</style>\n",
       "<table border=\"1\" class=\"dataframe\">\n",
       "  <thead>\n",
       "    <tr style=\"text-align: right;\">\n",
       "      <th></th>\n",
       "      <th>1800</th>\n",
       "      <th>1801</th>\n",
       "      <th>1802</th>\n",
       "      <th>1803</th>\n",
       "      <th>1804</th>\n",
       "      <th>1805</th>\n",
       "      <th>1806</th>\n",
       "      <th>1807</th>\n",
       "      <th>1808</th>\n",
       "      <th>1809</th>\n",
       "      <th>...</th>\n",
       "      <th>1890</th>\n",
       "      <th>1891</th>\n",
       "      <th>1892</th>\n",
       "      <th>1893</th>\n",
       "      <th>1894</th>\n",
       "      <th>1895</th>\n",
       "      <th>1896</th>\n",
       "      <th>1897</th>\n",
       "      <th>1898</th>\n",
       "      <th>1899</th>\n",
       "    </tr>\n",
       "  </thead>\n",
       "  <tbody>\n",
       "    <tr>\n",
       "      <th>count</th>\n",
       "      <td>201.000000</td>\n",
       "      <td>201.000000</td>\n",
       "      <td>201.000000</td>\n",
       "      <td>201.000000</td>\n",
       "      <td>201.000000</td>\n",
       "      <td>201.000000</td>\n",
       "      <td>201.000000</td>\n",
       "      <td>201.000000</td>\n",
       "      <td>201.000000</td>\n",
       "      <td>201.000000</td>\n",
       "      <td>...</td>\n",
       "      <td>201.000000</td>\n",
       "      <td>201.000000</td>\n",
       "      <td>201.000000</td>\n",
       "      <td>201.000000</td>\n",
       "      <td>201.000000</td>\n",
       "      <td>201.000000</td>\n",
       "      <td>201.000000</td>\n",
       "      <td>201.000000</td>\n",
       "      <td>201.000000</td>\n",
       "      <td>201.000000</td>\n",
       "    </tr>\n",
       "    <tr>\n",
       "      <th>mean</th>\n",
       "      <td>31.486020</td>\n",
       "      <td>31.448905</td>\n",
       "      <td>31.463483</td>\n",
       "      <td>31.377413</td>\n",
       "      <td>31.446318</td>\n",
       "      <td>31.562537</td>\n",
       "      <td>31.615970</td>\n",
       "      <td>31.573134</td>\n",
       "      <td>31.376766</td>\n",
       "      <td>31.310448</td>\n",
       "      <td>...</td>\n",
       "      <td>32.291045</td>\n",
       "      <td>32.475373</td>\n",
       "      <td>32.478408</td>\n",
       "      <td>32.533085</td>\n",
       "      <td>32.747214</td>\n",
       "      <td>32.811841</td>\n",
       "      <td>32.895224</td>\n",
       "      <td>32.964279</td>\n",
       "      <td>32.994080</td>\n",
       "      <td>32.962985</td>\n",
       "    </tr>\n",
       "    <tr>\n",
       "      <th>std</th>\n",
       "      <td>3.763585</td>\n",
       "      <td>3.755739</td>\n",
       "      <td>3.878204</td>\n",
       "      <td>3.901966</td>\n",
       "      <td>3.877156</td>\n",
       "      <td>3.947957</td>\n",
       "      <td>4.039261</td>\n",
       "      <td>3.917339</td>\n",
       "      <td>4.017228</td>\n",
       "      <td>3.972970</td>\n",
       "      <td>...</td>\n",
       "      <td>5.907298</td>\n",
       "      <td>5.734794</td>\n",
       "      <td>5.825318</td>\n",
       "      <td>6.018269</td>\n",
       "      <td>5.822354</td>\n",
       "      <td>6.067020</td>\n",
       "      <td>6.344388</td>\n",
       "      <td>6.390669</td>\n",
       "      <td>6.336805</td>\n",
       "      <td>6.325265</td>\n",
       "    </tr>\n",
       "    <tr>\n",
       "      <th>min</th>\n",
       "      <td>23.390000</td>\n",
       "      <td>23.390000</td>\n",
       "      <td>23.390000</td>\n",
       "      <td>19.600000</td>\n",
       "      <td>23.390000</td>\n",
       "      <td>23.390000</td>\n",
       "      <td>23.390000</td>\n",
       "      <td>23.390000</td>\n",
       "      <td>12.480000</td>\n",
       "      <td>13.430000</td>\n",
       "      <td>...</td>\n",
       "      <td>4.000000</td>\n",
       "      <td>8.000000</td>\n",
       "      <td>14.000000</td>\n",
       "      <td>8.000000</td>\n",
       "      <td>22.180000</td>\n",
       "      <td>22.000000</td>\n",
       "      <td>20.000000</td>\n",
       "      <td>19.000000</td>\n",
       "      <td>19.700000</td>\n",
       "      <td>18.900000</td>\n",
       "    </tr>\n",
       "    <tr>\n",
       "      <th>25%</th>\n",
       "      <td>29.000000</td>\n",
       "      <td>28.950000</td>\n",
       "      <td>28.900000</td>\n",
       "      <td>28.900000</td>\n",
       "      <td>28.950000</td>\n",
       "      <td>29.000000</td>\n",
       "      <td>29.000000</td>\n",
       "      <td>29.000000</td>\n",
       "      <td>28.950000</td>\n",
       "      <td>28.820000</td>\n",
       "      <td>...</td>\n",
       "      <td>29.200000</td>\n",
       "      <td>29.200000</td>\n",
       "      <td>29.000000</td>\n",
       "      <td>29.000000</td>\n",
       "      <td>29.200000</td>\n",
       "      <td>29.200000</td>\n",
       "      <td>29.000000</td>\n",
       "      <td>29.200000</td>\n",
       "      <td>29.160000</td>\n",
       "      <td>29.000000</td>\n",
       "    </tr>\n",
       "    <tr>\n",
       "      <th>50%</th>\n",
       "      <td>31.800000</td>\n",
       "      <td>31.700000</td>\n",
       "      <td>31.600000</td>\n",
       "      <td>31.500000</td>\n",
       "      <td>31.600000</td>\n",
       "      <td>31.700000</td>\n",
       "      <td>31.800000</td>\n",
       "      <td>31.800000</td>\n",
       "      <td>31.600000</td>\n",
       "      <td>31.500000</td>\n",
       "      <td>...</td>\n",
       "      <td>32.000000</td>\n",
       "      <td>32.000000</td>\n",
       "      <td>32.000000</td>\n",
       "      <td>32.000000</td>\n",
       "      <td>32.000000</td>\n",
       "      <td>32.000000</td>\n",
       "      <td>32.000000</td>\n",
       "      <td>32.000000</td>\n",
       "      <td>32.000000</td>\n",
       "      <td>32.000000</td>\n",
       "    </tr>\n",
       "    <tr>\n",
       "      <th>75%</th>\n",
       "      <td>33.900000</td>\n",
       "      <td>33.900000</td>\n",
       "      <td>33.900000</td>\n",
       "      <td>33.800000</td>\n",
       "      <td>33.870000</td>\n",
       "      <td>33.900000</td>\n",
       "      <td>34.000000</td>\n",
       "      <td>34.000000</td>\n",
       "      <td>33.870000</td>\n",
       "      <td>33.800000</td>\n",
       "      <td>...</td>\n",
       "      <td>35.000000</td>\n",
       "      <td>35.100000</td>\n",
       "      <td>35.000000</td>\n",
       "      <td>35.000000</td>\n",
       "      <td>35.000000</td>\n",
       "      <td>35.000000</td>\n",
       "      <td>35.000000</td>\n",
       "      <td>35.000000</td>\n",
       "      <td>35.180000</td>\n",
       "      <td>35.180000</td>\n",
       "    </tr>\n",
       "    <tr>\n",
       "      <th>max</th>\n",
       "      <td>42.850000</td>\n",
       "      <td>40.300000</td>\n",
       "      <td>44.370000</td>\n",
       "      <td>44.840000</td>\n",
       "      <td>42.830000</td>\n",
       "      <td>44.270000</td>\n",
       "      <td>45.820000</td>\n",
       "      <td>43.560000</td>\n",
       "      <td>43.550000</td>\n",
       "      <td>41.740000</td>\n",
       "      <td>...</td>\n",
       "      <td>50.480000</td>\n",
       "      <td>51.090000</td>\n",
       "      <td>52.730000</td>\n",
       "      <td>52.580000</td>\n",
       "      <td>52.100000</td>\n",
       "      <td>54.160000</td>\n",
       "      <td>53.840000</td>\n",
       "      <td>54.140000</td>\n",
       "      <td>54.690000</td>\n",
       "      <td>51.620000</td>\n",
       "    </tr>\n",
       "  </tbody>\n",
       "</table>\n",
       "<p>8 rows × 100 columns</p>\n",
       "</div>"
      ],
      "text/plain": [
       "             1800        1801        1802        1803        1804        1805  \\\n",
       "count  201.000000  201.000000  201.000000  201.000000  201.000000  201.000000   \n",
       "mean    31.486020   31.448905   31.463483   31.377413   31.446318   31.562537   \n",
       "std      3.763585    3.755739    3.878204    3.901966    3.877156    3.947957   \n",
       "min     23.390000   23.390000   23.390000   19.600000   23.390000   23.390000   \n",
       "25%     29.000000   28.950000   28.900000   28.900000   28.950000   29.000000   \n",
       "50%     31.800000   31.700000   31.600000   31.500000   31.600000   31.700000   \n",
       "75%     33.900000   33.900000   33.900000   33.800000   33.870000   33.900000   \n",
       "max     42.850000   40.300000   44.370000   44.840000   42.830000   44.270000   \n",
       "\n",
       "             1806        1807        1808        1809     ...            1890  \\\n",
       "count  201.000000  201.000000  201.000000  201.000000     ...      201.000000   \n",
       "mean    31.615970   31.573134   31.376766   31.310448     ...       32.291045   \n",
       "std      4.039261    3.917339    4.017228    3.972970     ...        5.907298   \n",
       "min     23.390000   23.390000   12.480000   13.430000     ...        4.000000   \n",
       "25%     29.000000   29.000000   28.950000   28.820000     ...       29.200000   \n",
       "50%     31.800000   31.800000   31.600000   31.500000     ...       32.000000   \n",
       "75%     34.000000   34.000000   33.870000   33.800000     ...       35.000000   \n",
       "max     45.820000   43.560000   43.550000   41.740000     ...       50.480000   \n",
       "\n",
       "             1891        1892        1893        1894        1895        1896  \\\n",
       "count  201.000000  201.000000  201.000000  201.000000  201.000000  201.000000   \n",
       "mean    32.475373   32.478408   32.533085   32.747214   32.811841   32.895224   \n",
       "std      5.734794    5.825318    6.018269    5.822354    6.067020    6.344388   \n",
       "min      8.000000   14.000000    8.000000   22.180000   22.000000   20.000000   \n",
       "25%     29.200000   29.000000   29.000000   29.200000   29.200000   29.000000   \n",
       "50%     32.000000   32.000000   32.000000   32.000000   32.000000   32.000000   \n",
       "75%     35.100000   35.000000   35.000000   35.000000   35.000000   35.000000   \n",
       "max     51.090000   52.730000   52.580000   52.100000   54.160000   53.840000   \n",
       "\n",
       "             1897        1898        1899  \n",
       "count  201.000000  201.000000  201.000000  \n",
       "mean    32.964279   32.994080   32.962985  \n",
       "std      6.390669    6.336805    6.325265  \n",
       "min     19.000000   19.700000   18.900000  \n",
       "25%     29.200000   29.160000   29.000000  \n",
       "50%     32.000000   32.000000   32.000000  \n",
       "75%     35.000000   35.180000   35.180000  \n",
       "max     54.140000   54.690000   51.620000  \n",
       "\n",
       "[8 rows x 100 columns]"
      ]
     },
     "execution_count": 4,
     "metadata": {},
     "output_type": "execute_result"
    }
   ],
   "source": [
    "g1800s.describe()"
   ]
  },
  {
   "cell_type": "markdown",
   "metadata": {},
   "source": [
    " - Use the `.plot()` method on `g1800s` with `kind='scatter'` to create a scatter plot with `'1800'` on the x-axis and `'1899'` on the y-axis.-"
   ]
  },
  {
   "cell_type": "code",
   "execution_count": 9,
   "metadata": {
    "ExecuteTime": {
     "end_time": "2017-10-27T19:58:03.804052Z",
     "start_time": "2017-10-27T19:58:03.439939Z"
    }
   },
   "outputs": [
    {
     "data": {
      "image/png": "[encoded data removed]",
      "text/plain": [
       "<matplotlib.figure.Figure at 0x7f3c531a7a90>"
      ]
     },
     "metadata": {},
     "output_type": "display_data"
    }
   ],
   "source": [
    "g1800s.plot(kind='scatter', x = '1800', y = '1899')\n",
    "import matplotlib.pyplot as plt\n",
    "\n",
    "plt.show()"
   ]
  },
  {
   "cell_type": "markdown",
   "metadata": {
    "ExecuteTime": {
     "end_time": "2017-10-27T12:38:10.465067Z",
     "start_time": "2017-10-27T12:38:10.455918Z"
    }
   },
   "source": [
    "make sure that the following assumptions about the data are true:\n",
    "\n",
    "- `'Life expectancy'` is the first column (index `0`) of the DataFrame.\n",
    "- The other columns contain either null or numeric values.\n",
    "- The numeric values are all greater than or equal to 0.\n",
    "- There is only one instance of each country."
   ]
  },
  {
   "cell_type": "code",
   "execution_count": 10,
   "metadata": {
    "ExecuteTime": {
     "end_time": "2017-10-27T20:00:03.257687Z",
     "start_time": "2017-10-27T20:00:03.235842Z"
    },
    "collapsed": true
   },
   "outputs": [],
   "source": [
    "assert g1800s.columns[0] == 'Life expectancy'"
   ]
  },
  {
   "cell_type": "code",
   "execution_count": 15,
   "metadata": {
    "ExecuteTime": {
     "end_time": "2017-10-27T20:01:19.415516Z",
     "start_time": "2017-10-27T20:01:19.410479Z"
    }
   },
   "outputs": [],
   "source": [
    "assert g1800s['Life expectancy'].value_counts()[0] == 1"
   ]
  },
  {
   "cell_type": "code",
   "execution_count": 21,
   "metadata": {
    "ExecuteTime": {
     "end_time": "2017-10-27T20:05:47.789030Z",
     "start_time": "2017-10-27T20:05:47.764698Z"
    },
    "collapsed": true
   },
   "outputs": [],
   "source": [
    "def check_null_or_valid(row_data):\n",
    "    \"\"\"checkes to see if values are missing and/or >= 0\n",
    "    \"\"\"\n",
    "    no_na = row_data.dropna()[1:]\n",
    "    numeric = pd.to_numeric(no_na)\n",
    "    ge0 = numeric >= 0\n",
    "    return ge0"
   ]
  },
  {
   "cell_type": "code",
   "execution_count": 22,
   "metadata": {
    "ExecuteTime": {
     "end_time": "2017-10-27T20:05:48.673368Z",
     "start_time": "2017-10-27T20:05:48.001362Z"
    }
   },
   "outputs": [],
   "source": [
    "assert g1800s.apply(check_null_or_valid, axis=1).all().all()"
   ]
  },
  {
   "cell_type": "markdown",
   "metadata": {},
   "source": [
    "- Define a function called `check_null_or_valid()` that takes in one argument: `row_data`.\n",
    "- Inside the function, convert `no_na` to a numeric data type using `pd.to_numeric()`.\n",
    "- Write an assert statement to make sure the first column (index `0`) of the `g1800s` DataFrame is `'Life expectancy'`.\n",
    "- Write an assert statement to test that all the values are valid for the `g1800s` DataFrame. Use the `check_null_or_valid()` function placed inside the `.apply()` method for this. Note that because you're applying it over the entire DataFrame, and not just one column, you'll have to chain the `.all()` method twice, and remember that you don't have to use `()` for functions placed inside `.apply()`.\n",
    "- Write an assert statement to make sure that each country occurs only once in the data. Use the `.value_counts()` method on the `'Life expectancy'` column for this. Specifically, index `0` of `.value_counts()` will contain the most frequently occuring value. If this is equal to `1` for the `'Life expectancy'` column, then you can be certain that no country appears more than once in the data."
   ]
  },
  {
   "cell_type": "code",
   "execution_count": null,
   "metadata": {
    "collapsed": true
   },
   "outputs": [],
   "source": []
  },
  {
   "cell_type": "markdown",
   "metadata": {},
   "source": [
    "combine all the gapminder data into a single `gapminder` dataframe\n",
    "\n",
    "- try doing it using a glob and a for loop\n",
    "- try doing it using glob and a list comprehension"
   ]
  },
  {
   "cell_type": "code",
   "execution_count": 31,
   "metadata": {
    "ExecuteTime": {
     "end_time": "2017-10-27T20:21:00.326863Z",
     "start_time": "2017-10-27T20:21:00.275972Z"
    }
   },
   "outputs": [
    {
     "data": {
      "text/plain": [
       "3"
      ]
     },
     "execution_count": 31,
     "metadata": {},
     "output_type": "execute_result"
    }
   ],
   "source": [
    "import glob\n",
    "\n",
    "list_df = []\n",
    "\n",
    "files = glob.glob('/home/dchen/Desktop/capstone/data/original/*.txt')\n",
    "\n",
    "for fn in files:\n",
    "    df = pd.read_csv(fn)\n",
    "    list_df.append(df)\n",
    "\n",
    "len(list_df)"
   ]
  },
  {
   "cell_type": "code",
   "execution_count": 33,
   "metadata": {
    "ExecuteTime": {
     "end_time": "2017-10-27T20:21:26.254174Z",
     "start_time": "2017-10-27T20:21:26.190777Z"
    }
   },
   "outputs": [
    {
     "data": {
      "text/html": [
       "<div>\n",
       "<style>\n",
       "    .dataframe thead tr:only-child th {\n",
       "        text-align: right;\n",
       "    }\n",
       "\n",
       "    .dataframe thead th {\n",
       "        text-align: left;\n",
       "    }\n",
       "\n",
       "    .dataframe tbody tr th {\n",
       "        vertical-align: top;\n",
       "    }\n",
       "</style>\n",
       "<table border=\"1\" class=\"dataframe\">\n",
       "  <thead>\n",
       "    <tr style=\"text-align: right;\">\n",
       "      <th></th>\n",
       "      <th>1800</th>\n",
       "      <th>1801</th>\n",
       "      <th>1802</th>\n",
       "      <th>1803</th>\n",
       "      <th>1804</th>\n",
       "      <th>1805</th>\n",
       "      <th>1806</th>\n",
       "      <th>1807</th>\n",
       "      <th>1808</th>\n",
       "      <th>1809</th>\n",
       "      <th>...</th>\n",
       "      <th>2008</th>\n",
       "      <th>2009</th>\n",
       "      <th>2010</th>\n",
       "      <th>2011</th>\n",
       "      <th>2012</th>\n",
       "      <th>2013</th>\n",
       "      <th>2014</th>\n",
       "      <th>2015</th>\n",
       "      <th>2016</th>\n",
       "      <th>Life expectancy</th>\n",
       "    </tr>\n",
       "  </thead>\n",
       "  <tbody>\n",
       "    <tr>\n",
       "      <th>0</th>\n",
       "      <td>NaN</td>\n",
       "      <td>NaN</td>\n",
       "      <td>NaN</td>\n",
       "      <td>NaN</td>\n",
       "      <td>NaN</td>\n",
       "      <td>NaN</td>\n",
       "      <td>NaN</td>\n",
       "      <td>NaN</td>\n",
       "      <td>NaN</td>\n",
       "      <td>NaN</td>\n",
       "      <td>...</td>\n",
       "      <td>NaN</td>\n",
       "      <td>NaN</td>\n",
       "      <td>NaN</td>\n",
       "      <td>NaN</td>\n",
       "      <td>NaN</td>\n",
       "      <td>NaN</td>\n",
       "      <td>NaN</td>\n",
       "      <td>NaN</td>\n",
       "      <td>NaN</td>\n",
       "      <td>Abkhazia</td>\n",
       "    </tr>\n",
       "    <tr>\n",
       "      <th>1</th>\n",
       "      <td>NaN</td>\n",
       "      <td>NaN</td>\n",
       "      <td>NaN</td>\n",
       "      <td>NaN</td>\n",
       "      <td>NaN</td>\n",
       "      <td>NaN</td>\n",
       "      <td>NaN</td>\n",
       "      <td>NaN</td>\n",
       "      <td>NaN</td>\n",
       "      <td>NaN</td>\n",
       "      <td>...</td>\n",
       "      <td>52.8</td>\n",
       "      <td>53.3</td>\n",
       "      <td>53.6</td>\n",
       "      <td>54.0</td>\n",
       "      <td>54.4</td>\n",
       "      <td>54.8</td>\n",
       "      <td>54.9</td>\n",
       "      <td>53.8</td>\n",
       "      <td>52.72</td>\n",
       "      <td>Afghanistan</td>\n",
       "    </tr>\n",
       "    <tr>\n",
       "      <th>2</th>\n",
       "      <td>NaN</td>\n",
       "      <td>NaN</td>\n",
       "      <td>NaN</td>\n",
       "      <td>NaN</td>\n",
       "      <td>NaN</td>\n",
       "      <td>NaN</td>\n",
       "      <td>NaN</td>\n",
       "      <td>NaN</td>\n",
       "      <td>NaN</td>\n",
       "      <td>NaN</td>\n",
       "      <td>...</td>\n",
       "      <td>NaN</td>\n",
       "      <td>NaN</td>\n",
       "      <td>NaN</td>\n",
       "      <td>NaN</td>\n",
       "      <td>NaN</td>\n",
       "      <td>NaN</td>\n",
       "      <td>NaN</td>\n",
       "      <td>NaN</td>\n",
       "      <td>NaN</td>\n",
       "      <td>Akrotiri and Dhekelia</td>\n",
       "    </tr>\n",
       "    <tr>\n",
       "      <th>3</th>\n",
       "      <td>NaN</td>\n",
       "      <td>NaN</td>\n",
       "      <td>NaN</td>\n",
       "      <td>NaN</td>\n",
       "      <td>NaN</td>\n",
       "      <td>NaN</td>\n",
       "      <td>NaN</td>\n",
       "      <td>NaN</td>\n",
       "      <td>NaN</td>\n",
       "      <td>NaN</td>\n",
       "      <td>...</td>\n",
       "      <td>76.8</td>\n",
       "      <td>77.0</td>\n",
       "      <td>77.2</td>\n",
       "      <td>77.4</td>\n",
       "      <td>77.5</td>\n",
       "      <td>77.7</td>\n",
       "      <td>77.9</td>\n",
       "      <td>78.0</td>\n",
       "      <td>78.10</td>\n",
       "      <td>Albania</td>\n",
       "    </tr>\n",
       "    <tr>\n",
       "      <th>4</th>\n",
       "      <td>NaN</td>\n",
       "      <td>NaN</td>\n",
       "      <td>NaN</td>\n",
       "      <td>NaN</td>\n",
       "      <td>NaN</td>\n",
       "      <td>NaN</td>\n",
       "      <td>NaN</td>\n",
       "      <td>NaN</td>\n",
       "      <td>NaN</td>\n",
       "      <td>NaN</td>\n",
       "      <td>...</td>\n",
       "      <td>75.5</td>\n",
       "      <td>75.7</td>\n",
       "      <td>76.0</td>\n",
       "      <td>76.1</td>\n",
       "      <td>76.2</td>\n",
       "      <td>76.3</td>\n",
       "      <td>76.3</td>\n",
       "      <td>76.4</td>\n",
       "      <td>76.50</td>\n",
       "      <td>Algeria</td>\n",
       "    </tr>\n",
       "  </tbody>\n",
       "</table>\n",
       "<p>5 rows × 218 columns</p>\n",
       "</div>"
      ],
      "text/plain": [
       "   1800  1801  1802  1803  1804  1805  1806  1807  1808  1809  \\\n",
       "0   NaN   NaN   NaN   NaN   NaN   NaN   NaN   NaN   NaN   NaN   \n",
       "1   NaN   NaN   NaN   NaN   NaN   NaN   NaN   NaN   NaN   NaN   \n",
       "2   NaN   NaN   NaN   NaN   NaN   NaN   NaN   NaN   NaN   NaN   \n",
       "3   NaN   NaN   NaN   NaN   NaN   NaN   NaN   NaN   NaN   NaN   \n",
       "4   NaN   NaN   NaN   NaN   NaN   NaN   NaN   NaN   NaN   NaN   \n",
       "\n",
       "           ...            2008  2009  2010  2011  2012  2013  2014  2015  \\\n",
       "0          ...             NaN   NaN   NaN   NaN   NaN   NaN   NaN   NaN   \n",
       "1          ...            52.8  53.3  53.6  54.0  54.4  54.8  54.9  53.8   \n",
       "2          ...             NaN   NaN   NaN   NaN   NaN   NaN   NaN   NaN   \n",
       "3          ...            76.8  77.0  77.2  77.4  77.5  77.7  77.9  78.0   \n",
       "4          ...            75.5  75.7  76.0  76.1  76.2  76.3  76.3  76.4   \n",
       "\n",
       "    2016        Life expectancy  \n",
       "0    NaN               Abkhazia  \n",
       "1  52.72            Afghanistan  \n",
       "2    NaN  Akrotiri and Dhekelia  \n",
       "3  78.10                Albania  \n",
       "4  76.50                Algeria  \n",
       "\n",
       "[5 rows x 218 columns]"
      ]
     },
     "execution_count": 33,
     "metadata": {},
     "output_type": "execute_result"
    }
   ],
   "source": [
    "gapminder = pd.concat(list_df)\n",
    "gapminder.head()"
   ]
  },
  {
   "cell_type": "markdown",
   "metadata": {},
   "source": [
    "- Reshape `gapminder` by melting it. Keep `'Life expectancy'` fixed by specifying it as an argument to the `id_vars` parameter.\n",
    "- Rename the three columns of the melted DataFrame to `'country'`, `'year'`, and `'life_expectancy'` by passing them in as a list to `gapminder_melt.columns`."
   ]
  },
  {
   "cell_type": "code",
   "execution_count": 34,
   "metadata": {
    "ExecuteTime": {
     "end_time": "2017-10-27T20:22:31.255465Z",
     "start_time": "2017-10-27T20:22:31.237663Z"
    },
    "collapsed": true
   },
   "outputs": [],
   "source": [
    "gm_melt = gapminder.melt(id_vars='Life expectancy')"
   ]
  },
  {
   "cell_type": "code",
   "execution_count": 36,
   "metadata": {
    "ExecuteTime": {
     "end_time": "2017-10-27T20:23:09.092395Z",
     "start_time": "2017-10-27T20:23:09.088530Z"
    }
   },
   "outputs": [],
   "source": [
    "gm_melt.columns = ['country', 'year', 'life_expectancy']"
   ]
  },
  {
   "cell_type": "code",
   "execution_count": 37,
   "metadata": {
    "ExecuteTime": {
     "end_time": "2017-10-27T20:23:15.463467Z",
     "start_time": "2017-10-27T20:23:15.441402Z"
    }
   },
   "outputs": [
    {
     "data": {
      "text/html": [
       "<div>\n",
       "<style>\n",
       "    .dataframe thead tr:only-child th {\n",
       "        text-align: right;\n",
       "    }\n",
       "\n",
       "    .dataframe thead th {\n",
       "        text-align: left;\n",
       "    }\n",
       "\n",
       "    .dataframe tbody tr th {\n",
       "        vertical-align: top;\n",
       "    }\n",
       "</style>\n",
       "<table border=\"1\" class=\"dataframe\">\n",
       "  <thead>\n",
       "    <tr style=\"text-align: right;\">\n",
       "      <th></th>\n",
       "      <th>country</th>\n",
       "      <th>year</th>\n",
       "      <th>life_expectancy</th>\n",
       "    </tr>\n",
       "  </thead>\n",
       "  <tbody>\n",
       "    <tr>\n",
       "      <th>0</th>\n",
       "      <td>Abkhazia</td>\n",
       "      <td>1800</td>\n",
       "      <td>NaN</td>\n",
       "    </tr>\n",
       "    <tr>\n",
       "      <th>1</th>\n",
       "      <td>Afghanistan</td>\n",
       "      <td>1800</td>\n",
       "      <td>NaN</td>\n",
       "    </tr>\n",
       "    <tr>\n",
       "      <th>2</th>\n",
       "      <td>Akrotiri and Dhekelia</td>\n",
       "      <td>1800</td>\n",
       "      <td>NaN</td>\n",
       "    </tr>\n",
       "    <tr>\n",
       "      <th>3</th>\n",
       "      <td>Albania</td>\n",
       "      <td>1800</td>\n",
       "      <td>NaN</td>\n",
       "    </tr>\n",
       "    <tr>\n",
       "      <th>4</th>\n",
       "      <td>Algeria</td>\n",
       "      <td>1800</td>\n",
       "      <td>NaN</td>\n",
       "    </tr>\n",
       "  </tbody>\n",
       "</table>\n",
       "</div>"
      ],
      "text/plain": [
       "                 country  year  life_expectancy\n",
       "0               Abkhazia  1800              NaN\n",
       "1            Afghanistan  1800              NaN\n",
       "2  Akrotiri and Dhekelia  1800              NaN\n",
       "3                Albania  1800              NaN\n",
       "4                Algeria  1800              NaN"
      ]
     },
     "execution_count": 37,
     "metadata": {},
     "output_type": "execute_result"
    }
   ],
   "source": [
    "gm_melt.head()"
   ]
  },
  {
   "cell_type": "markdown",
   "metadata": {},
   "source": [
    "- Convert the `year` column of `gapminder` using `pd.to_numeric()`.\n",
    "- Assert that the `country` column is of type `np.object`. This has been done for you.\n",
    "- Assert that the `year` column is of type `np.int64`.\n",
    "- Assert that the `life_expectancy` column is of type `np.float64`."
   ]
  },
  {
   "cell_type": "code",
   "execution_count": 42,
   "metadata": {
    "ExecuteTime": {
     "end_time": "2017-10-27T20:27:54.766833Z",
     "start_time": "2017-10-27T20:27:54.762988Z"
    },
    "collapsed": true
   },
   "outputs": [],
   "source": [
    "import numpy as np"
   ]
  },
  {
   "cell_type": "code",
   "execution_count": 44,
   "metadata": {
    "ExecuteTime": {
     "end_time": "2017-10-27T20:28:33.957268Z",
     "start_time": "2017-10-27T20:28:33.940276Z"
    }
   },
   "outputs": [],
   "source": [
    "gm_melt['year'] = pd.to_numeric(gm_melt['year'])\n",
    "\n",
    "assert gm_melt.country.dtype == np.object\n",
    "assert gm_melt.year.dtype == np.int64\n",
    "assert gm_melt.life_expectancy.dtype == np.float64"
   ]
  },
  {
   "cell_type": "markdown",
   "metadata": {},
   "source": [
    "- Create a Series called `countries` consisting of the `'country'` column of `gapminder`.\n",
    "- Drop all duplicates from `countries` using the `.drop_duplicates()` method.\n",
    "- Write a regular expression that tests your assumptions of what characters belong in `countries`:\n",
    "    - Anchor the pattern to match exactly what you want by placing a `^` in the beginning and `$` in the end.\n",
    "    - Use `A-Za-z` to match the set of lower and upper case letters, `\\.` to match periods, and `\\s` to match whitespace between words.\n",
    "- Use `str.contains()` to create a Boolean vector representing values that match the pattern.\n",
    "- Invert the mask by placing a `~` before it.\n",
    "- Subset the `countries` series using the `.loc[]` accessor and `mask_inverse`."
   ]
  },
  {
   "cell_type": "code",
   "execution_count": 52,
   "metadata": {
    "ExecuteTime": {
     "end_time": "2017-10-27T20:33:39.771080Z",
     "start_time": "2017-10-27T20:33:39.759693Z"
    }
   },
   "outputs": [
    {
     "data": {
      "text/plain": [
       "0                      Abkhazia\n",
       "1                   Afghanistan\n",
       "2         Akrotiri and Dhekelia\n",
       "3                       Albania\n",
       "4                       Algeria\n",
       "5                American Samoa\n",
       "6                       Andorra\n",
       "7                        Angola\n",
       "8                      Anguilla\n",
       "9           Antigua and Barbuda\n",
       "10                    Argentina\n",
       "11                      Armenia\n",
       "12                        Aruba\n",
       "13                    Australia\n",
       "14                      Austria\n",
       "15                   Azerbaijan\n",
       "16                      Bahamas\n",
       "17                      Bahrain\n",
       "18                   Bangladesh\n",
       "19                     Barbados\n",
       "20                      Belarus\n",
       "21                      Belgium\n",
       "22                       Belize\n",
       "23                        Benin\n",
       "24                      Bermuda\n",
       "25                       Bhutan\n",
       "26                      Bolivia\n",
       "27       Bosnia and Herzegovina\n",
       "28                     Botswana\n",
       "29                       Brazil\n",
       "                 ...           \n",
       "230         Trinidad and Tobago\n",
       "231                     Tunisia\n",
       "232                      Turkey\n",
       "233                Turkmenistan\n",
       "234    Turks and Caicos Islands\n",
       "235                      Tuvalu\n",
       "236                      Uganda\n",
       "237                     Ukraine\n",
       "238        United Arab Emirates\n",
       "239              United Kingdom\n",
       "240               United States\n",
       "241                     Uruguay\n",
       "242                        USSR\n",
       "243                  Uzbekistan\n",
       "244            Wallis et Futuna\n",
       "245                     Vanuatu\n",
       "246                   Venezuela\n",
       "247          West Bank and Gaza\n",
       "248                West Germany\n",
       "249              Western Sahara\n",
       "250                     Vietnam\n",
       "251       Virgin Islands (U.S.)\n",
       "252        North Yemen (former)\n",
       "253        South Yemen (former)\n",
       "254                       Yemen\n",
       "255                  Yugoslavia\n",
       "256                      Zambia\n",
       "257                    Zimbabwe\n",
       "258                       Åland\n",
       "259                 South Sudan\n",
       "Name: country, Length: 260, dtype: object"
      ]
     },
     "execution_count": 52,
     "metadata": {},
     "output_type": "execute_result"
    }
   ],
   "source": [
    "countries"
   ]
  },
  {
   "cell_type": "code",
   "execution_count": 57,
   "metadata": {
    "ExecuteTime": {
     "end_time": "2017-10-27T20:34:18.085844Z",
     "start_time": "2017-10-27T20:34:18.061528Z"
    }
   },
   "outputs": [],
   "source": [
    "countries = gm_melt['country']\n",
    "\n",
    "countries = countries.drop_duplicates()\n",
    "\n",
    "pattern = '^[A-Za-z\\.\\s]*$'"
   ]
  },
  {
   "cell_type": "code",
   "execution_count": 60,
   "metadata": {
    "ExecuteTime": {
     "end_time": "2017-10-27T20:34:52.014353Z",
     "start_time": "2017-10-27T20:34:52.000955Z"
    }
   },
   "outputs": [
    {
     "data": {
      "text/plain": [
       "49            Congo, Dem. Rep.\n",
       "50                 Congo, Rep.\n",
       "53               Cote d'Ivoire\n",
       "73      Falkland Is (Malvinas)\n",
       "93               Guinea-Bissau\n",
       "98            Hong Kong, China\n",
       "118    United Korea (former)\\n\n",
       "131               Macao, China\n",
       "132             Macedonia, FYR\n",
       "145      Micronesia, Fed. Sts.\n",
       "161            Ngorno-Karabakh\n",
       "187             St. Barthélemy\n",
       "193     St.-Pierre-et-Miquelon\n",
       "225                Timor-Leste\n",
       "251      Virgin Islands (U.S.)\n",
       "252       North Yemen (former)\n",
       "253       South Yemen (former)\n",
       "258                      Åland\n",
       "Name: country, dtype: object"
      ]
     },
     "execution_count": 60,
     "metadata": {},
     "output_type": "execute_result"
    }
   ],
   "source": [
    "countries[~countries.str.contains(pattern)]"
   ]
  },
  {
   "cell_type": "markdown",
   "metadata": {},
   "source": [
    "- Assert that `country` and `year` do not contain any missing values. The first assert statement has been written for you. Note the chaining of the `.all()` method to `pd.notnull()` to confirm that *all* values in the column are not null.\n",
    "- Drop the rows in the data where *any* observation in `life_expectancy` is missing. As you confirmed that `country`\n",
    "and `year` don't have missing values, you can use the `.dropna()` method on the *entire* `gapminder` DataFrame, because any missing values would have to be in the `life_expectancy` column. The `.dropna()` method has the default keyword arguments `axis=0` and `how='any'`, which specify that *rows* with *any* missing values should be dropped.\n",
    "- Print the shape of `gapminder`."
   ]
  },
  {
   "cell_type": "code",
   "execution_count": null,
   "metadata": {
    "collapsed": true
   },
   "outputs": [],
   "source": []
  },
  {
   "cell_type": "markdown",
   "metadata": {},
   "source": [
    "- Group `gapminder` by `'year'` and aggregate `'life_expectancy'` by the mean. To do this:\n",
    "    - Use the `.groupby()` method on `gapminder` with `'year'` as the argument. Then select `'life_expectancy'` and chain the `.mean()` method to it.\n",
    "\n",
    "- Create a histogram of the `life_expectancy` column using the `.plot()` method of `gapminder`. Specify `kind='hist'`.\n",
    "\n",
    "\n",
    "- Create a line plot of average life expectancy per year by using the `.plot()` method (without any arguments) on `gapminder_agg`.\n",
    "\n",
    "- Save `gapminder` and `gapminder_agg` to csv files called `'gapminder.csv'` and `'gapminder_agg.csv'`, respectively, using the `.to_csv()` method."
   ]
  },
  {
   "cell_type": "code",
   "execution_count": 61,
   "metadata": {
    "ExecuteTime": {
     "end_time": "2017-10-27T20:43:47.033047Z",
     "start_time": "2017-10-27T20:43:47.023898Z"
    },
    "collapsed": true
   },
   "outputs": [],
   "source": [
    "gapmider_agg = gm_melt.groupby('year')['life_expectancy'].mean()"
   ]
  },
  {
   "cell_type": "code",
   "execution_count": 62,
   "metadata": {
    "ExecuteTime": {
     "end_time": "2017-10-27T20:43:49.185873Z",
     "start_time": "2017-10-27T20:43:49.165913Z"
    }
   },
   "outputs": [
    {
     "data": {
      "text/plain": [
       "year\n",
       "1800    31.486020\n",
       "1801    31.448905\n",
       "1802    31.463483\n",
       "1803    31.377413\n",
       "1804    31.446318\n",
       "1805    31.562537\n",
       "1806    31.615970\n",
       "1807    31.573134\n",
       "1808    31.376766\n",
       "1809    31.310448\n",
       "1810    31.521741\n",
       "1811    31.481891\n",
       "1812    31.472736\n",
       "1813    31.467214\n",
       "1814    31.516318\n",
       "1815    31.647413\n",
       "1816    31.627512\n",
       "1817    31.721542\n",
       "1818    31.574726\n",
       "1819    31.488607\n",
       "1820    31.560796\n",
       "1821    31.620597\n",
       "1822    31.722090\n",
       "1823    31.770647\n",
       "1824    31.709005\n",
       "1825    31.666816\n",
       "1826    31.597313\n",
       "1827    31.633582\n",
       "1828    31.577861\n",
       "1829    31.559950\n",
       "          ...    \n",
       "1987    65.868069\n",
       "1988    66.144406\n",
       "1989    66.402475\n",
       "1990    66.784615\n",
       "1991    66.844663\n",
       "1992    67.026875\n",
       "1993    67.092500\n",
       "1994    67.006106\n",
       "1995    67.220000\n",
       "1996    67.412404\n",
       "1997    67.623541\n",
       "1998    67.762344\n",
       "1999    67.934880\n",
       "2000    68.077703\n",
       "2001    68.437943\n",
       "2002    68.653254\n",
       "2003    68.935550\n",
       "2004    69.184211\n",
       "2005    69.524019\n",
       "2006    69.850190\n",
       "2007    70.139712\n",
       "2008    70.447163\n",
       "2009    70.767740\n",
       "2010    70.969904\n",
       "2011    71.324375\n",
       "2012    71.663077\n",
       "2013    71.916106\n",
       "2014    72.088125\n",
       "2015    72.321010\n",
       "2016    72.556635\n",
       "Name: life_expectancy, Length: 217, dtype: float64"
      ]
     },
     "execution_count": 62,
     "metadata": {},
     "output_type": "execute_result"
    }
   ],
   "source": [
    "gapmider_agg"
   ]
  },
  {
   "cell_type": "code",
   "execution_count": 74,
   "metadata": {
    "ExecuteTime": {
     "end_time": "2017-10-27T20:47:40.123761Z",
     "start_time": "2017-10-27T20:47:37.108810Z"
    }
   },
   "outputs": [
    {
     "data": {
      "image/png": "[encoded data removed]",
      "text/plain": [
       "<matplotlib.figure.Figure at 0x7f3c528a04e0>"
      ]
     },
     "metadata": {},
     "output_type": "display_data"
    }
   ],
   "source": [
    "fig = plt.figure()\n",
    "ax1 = plt.subplot(2, 1, 1)\n",
    "ax2 = plt.subplot(2, 1, 2)\n",
    "\n",
    "ax1 = gm_melt.life_expectancy.plot(kind='hist')\n",
    "ax2 = gapmider_agg.plot(kind='line')\n",
    "\n",
    "plt.show()"
   ]
  },
  {
   "cell_type": "code",
   "execution_count": 71,
   "metadata": {
    "ExecuteTime": {
     "end_time": "2017-10-27T20:46:55.326320Z",
     "start_time": "2017-10-27T20:46:52.606872Z"
    }
   },
   "outputs": [
    {
     "data": {
      "image/png": "[encoded data removed]",
      "text/plain": [
       "<matplotlib.figure.Figure at 0x7f3c52525978>"
      ]
     },
     "metadata": {},
     "output_type": "display_data"
    }
   ],
   "source": [
    "gm_melt.life_expectancy.plot(kind='hist')\n",
    "plt.show()"
   ]
  },
  {
   "cell_type": "code",
   "execution_count": 73,
   "metadata": {
    "ExecuteTime": {
     "end_time": "2017-10-27T20:47:19.757155Z",
     "start_time": "2017-10-27T20:47:19.438520Z"
    }
   },
   "outputs": [
    {
     "data": {
      "image/png": "[encoded data removed]",
      "text/plain": [
       "<matplotlib.figure.Figure at 0x7f3c52461940>"
      ]
     },
     "metadata": {},
     "output_type": "display_data"
    }
   ],
   "source": [
    "gapmider_agg.plot(kind='line')\n",
    "plt.show()"
   ]
  },
  {
   "cell_type": "code",
   "execution_count": null,
   "metadata": {
    "collapsed": true
   },
   "outputs": [],
   "source": []
  },
  {
   "cell_type": "code",
   "execution_count": null,
   "metadata": {
    "collapsed": true
   },
   "outputs": [],
   "source": []
  }
 ],
 "metadata": {
  "kernelspec": {
   "display_name": "Python 3",
   "language": "python",
   "name": "python3"
  },
  "language_info": {
   "codemirror_mode": {
    "name": "ipython",
    "version": 3
   },
   "file_extension": ".py",
   "mimetype": "text/x-python",
   "name": "python",
   "nbconvert_exporter": "python",
   "pygments_lexer": "ipython3",
   "version": "3.6.3"
  },
  "toc": {
   "colors": {
    "hover_highlight": "#DAA520",
    "navigate_num": "#000000",
    "navigate_text": "#333333",
    "running_highlight": "#FF0000",
    "selected_highlight": "#FFD700",
    "sidebar_border": "#EEEEEE",
    "wrapper_background": "#FFFFFF"
   },
   "moveMenuLeft": true,
   "nav_menu": {
    "height": "12px",
    "width": "252px"
   },
   "navigate_menu": true,
   "number_sections": true,
   "sideBar": true,
   "threshold": 4,
   "toc_cell": true,
   "toc_section_display": "block",
   "toc_window_display": false,
   "widenNotebook": false
  }
 },
 "nbformat": 4,
 "nbformat_minor": 2
}
