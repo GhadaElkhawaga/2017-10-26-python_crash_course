{
 "cells": [
  {
   "cell_type": "markdown",
   "metadata": {
    "toc": "true"
   },
   "source": [
    "# Table of Contents\n",
    " <p>"
   ]
  },
  {
   "cell_type": "markdown",
   "metadata": {},
   "source": [
    "Here we created a separate module called `my_func.py` and we put it in the same directory as this notebook.\n",
    "We can import the module by using `import my_func` just like we imported `pandas`\n",
    "However, when you need to make changes to a module that you load in a notebook,\n",
    "we need to explicitely tell python to reload the module,\n",
    "otherwise if a library or module has already been loaded by Python, it will not load it again."
   ]
  },
  {
   "cell_type": "code",
   "execution_count": 4,
   "metadata": {
    "ExecuteTime": {
     "end_time": "2017-12-03T20:55:51.773766Z",
     "start_time": "2017-12-03T20:55:51.748956Z"
    }
   },
   "outputs": [
    {
     "data": {
      "text/plain": [
       "<module 'my_func' from '/home/dchen/git/hub/2017-10-26-python_crash_course/class/my_func.py'>"
      ]
     },
     "execution_count": 4,
     "metadata": {},
     "output_type": "execute_result"
    }
   ],
   "source": [
    "# imp modeule in python3 has a `reload` function that can reload a module\n",
    "import my_func\n",
    "import imp\n",
    "imp.reload(my_func)"
   ]
  },
  {
   "cell_type": "code",
   "execution_count": 5,
   "metadata": {
    "ExecuteTime": {
     "end_time": "2017-12-03T20:55:52.416133Z",
     "start_time": "2017-12-03T20:55:52.351870Z"
    }
   },
   "outputs": [],
   "source": [
    "my_func.k2c?"
   ]
  },
  {
   "cell_type": "code",
   "execution_count": null,
   "metadata": {
    "collapsed": true
   },
   "outputs": [],
   "source": []
  }
 ],
 "metadata": {
  "kernelspec": {
   "display_name": "Python 3",
   "language": "python",
   "name": "python3"
  },
  "language_info": {
   "codemirror_mode": {
    "name": "ipython",
    "version": 3
   },
   "file_extension": ".py",
   "mimetype": "text/x-python",
   "name": "python",
   "nbconvert_exporter": "python",
   "pygments_lexer": "ipython3",
   "version": "3.6.3"
  },
  "toc": {
   "colors": {
    "hover_highlight": "#DAA520",
    "navigate_num": "#000000",
    "navigate_text": "#333333",
    "running_highlight": "#FF0000",
    "selected_highlight": "#FFD700",
    "sidebar_border": "#EEEEEE",
    "wrapper_background": "#FFFFFF"
   },
   "moveMenuLeft": true,
   "nav_menu": {
    "height": "12px",
    "width": "252px"
   },
   "navigate_menu": true,
   "number_sections": true,
   "sideBar": false,
   "threshold": 4,
   "toc_cell": true,
   "toc_position": {
    "height": "392px",
    "left": "1360.99px",
    "right": "745.6px",
    "top": "370.986px",
    "width": "165px"
   },
   "toc_section_display": "block",
   "toc_window_display": true,
   "widenNotebook": false
  }
 },
 "nbformat": 4,
 "nbformat_minor": 2
}
